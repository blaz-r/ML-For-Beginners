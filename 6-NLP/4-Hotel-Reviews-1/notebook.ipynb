{
 "cells": [
  {
   "cell_type": "code",
   "execution_count": 62,
   "source": [
    "import pandas as pd\r\n",
    "\r\n",
    "df = pd.read_csv(\"../data/Hotel_Reviews.csv\")\r\n",
    "\r\n",
    "df.info()"
   ],
   "outputs": [
    {
     "output_type": "stream",
     "name": "stdout",
     "text": [
      "<class 'pandas.core.frame.DataFrame'>\n",
      "RangeIndex: 515738 entries, 0 to 515737\n",
      "Data columns (total 17 columns):\n",
      " #   Column                                      Non-Null Count   Dtype  \n",
      "---  ------                                      --------------   -----  \n",
      " 0   Hotel_Address                               515738 non-null  object \n",
      " 1   Additional_Number_of_Scoring                515738 non-null  int64  \n",
      " 2   Review_Date                                 515738 non-null  object \n",
      " 3   Average_Score                               515738 non-null  float64\n",
      " 4   Hotel_Name                                  515738 non-null  object \n",
      " 5   Reviewer_Nationality                        515738 non-null  object \n",
      " 6   Negative_Review                             515738 non-null  object \n",
      " 7   Review_Total_Negative_Word_Counts           515738 non-null  int64  \n",
      " 8   Total_Number_of_Reviews                     515738 non-null  int64  \n",
      " 9   Positive_Review                             515738 non-null  object \n",
      " 10  Review_Total_Positive_Word_Counts           515738 non-null  int64  \n",
      " 11  Total_Number_of_Reviews_Reviewer_Has_Given  515738 non-null  int64  \n",
      " 12  Reviewer_Score                              515738 non-null  float64\n",
      " 13  Tags                                        515738 non-null  object \n",
      " 14  days_since_review                           515738 non-null  object \n",
      " 15  lat                                         512470 non-null  float64\n",
      " 16  lng                                         512470 non-null  float64\n",
      "dtypes: float64(4), int64(5), object(8)\n",
      "memory usage: 66.9+ MB\n"
     ]
    }
   ],
   "metadata": {}
  },
  {
   "cell_type": "markdown",
   "source": [
    "Print out the shape of the data frame you have just loaded (the shape is the number of rows and columns)"
   ],
   "metadata": {}
  },
  {
   "cell_type": "code",
   "execution_count": 63,
   "source": [
    "print(f\"Shape: {df.shape}\")"
   ],
   "outputs": [
    {
     "output_type": "stream",
     "name": "stdout",
     "text": [
      "Shape: (515738, 17)\n"
     ]
    }
   ],
   "metadata": {}
  },
  {
   "cell_type": "markdown",
   "source": [
    "Calculate the frequency count for reviewer nationalities:\r\n",
    "\r\n",
    "    How many distinct values are there for the column Reviewer_Nationality and what are they?\r\n",
    "    What reviewer nationality is the most common in the dataset (print country and number of reviews)?\r\n",
    "    What are the next top 10 most frequently found nationalities, and their frequency count?"
   ],
   "metadata": {}
  },
  {
   "cell_type": "code",
   "execution_count": 64,
   "source": [
    "nationalities = df[\"Reviewer_Nationality\"]\r\n",
    "\r\n",
    "nat_freq = nationalities.value_counts()\r\n",
    "print(f\"Number of nationalities:{len(nat_freq)}\")\r\n",
    "\r\n",
    "print(nationalities.value_counts())\r\n",
    "\r\n",
    "print(f\"Most common nationality is {nat_freq.index[0]} with {nat_freq[0]} reviews\")\r\n",
    "\r\n",
    "print(f\"Next top 10 are as follows:\\n{nat_freq[1:11]}\")"
   ],
   "outputs": [
    {
     "output_type": "stream",
     "name": "stdout",
     "text": [
      "Number of nationalities:227\n",
      " United Kingdom               245246\n",
      " United States of America      35437\n",
      " Australia                     21686\n",
      " Ireland                       14827\n",
      " United Arab Emirates          10235\n",
      "                               ...  \n",
      " Cape Verde                        1\n",
      " Northern Mariana Islands          1\n",
      " Tuvalu                            1\n",
      " Guinea                            1\n",
      " Palau                             1\n",
      "Name: Reviewer_Nationality, Length: 227, dtype: int64\n",
      "Most common nationality is  United Kingdom  with 245246 reviews\n",
      "Next top 10 are as follows:\n",
      " United States of America     35437\n",
      " Australia                    21686\n",
      " Ireland                      14827\n",
      " United Arab Emirates         10235\n",
      " Saudi Arabia                  8951\n",
      " Netherlands                   8772\n",
      " Switzerland                   8678\n",
      " Germany                       7941\n",
      " Canada                        7894\n",
      " France                        7296\n",
      "Name: Reviewer_Nationality, dtype: int64\n"
     ]
    }
   ],
   "metadata": {}
  },
  {
   "cell_type": "markdown",
   "source": [
    "What was the most frequently reviewed hotel for each of the top 10 most reviewer nationalities?"
   ],
   "metadata": {}
  },
  {
   "cell_type": "code",
   "execution_count": 65,
   "source": [
    "# get top 10 nationalities\r\n",
    "top_10 = nat_freq[0:10].keys()\r\n",
    "\r\n",
    "# keep only reviews from top 10 nationalities\r\n",
    "nat_group = df[df[\"Reviewer_Nationality\"].isin(top_10)]\r\n",
    "\r\n",
    "# group by nationality then for each apply value count on hotel name, then return count and name of hotel with max count\r\n",
    "top_hotels = nat_group.groupby(\"Reviewer_Nationality\").apply(lambda x : (x[\"Hotel_Name\"].value_counts().idxmax(), x[\"Hotel_Name\"].value_counts().max()))\r\n",
    "\r\n",
    "# print data\r\n",
    "for nat in top_10:\r\n",
    "    hotel, count = top_hotels.get(nat)\r\n",
    "    print(f\"{nat} has most reviews for {hotel}, with count of {count}.\")"
   ],
   "outputs": [
    {
     "output_type": "stream",
     "name": "stdout",
     "text": [
      " United Kingdom  has most reviews for Britannia International Hotel Canary Wharf, with count of 3833.\n",
      " United States of America  has most reviews for Hotel Esther a, with count of 423.\n",
      " Australia  has most reviews for Park Plaza Westminster Bridge London, with count of 167.\n",
      " Ireland  has most reviews for Copthorne Tara Hotel London Kensington, with count of 239.\n",
      " United Arab Emirates  has most reviews for Millennium Hotel London Knightsbridge, with count of 129.\n",
      " Saudi Arabia  has most reviews for The Cumberland A Guoman Hotel, with count of 142.\n",
      " Netherlands  has most reviews for Jaz Amsterdam, with count of 97.\n",
      " Switzerland  has most reviews for Hotel Da Vinci, with count of 97.\n",
      " Germany  has most reviews for Hotel Da Vinci, with count of 86.\n",
      " Canada  has most reviews for St James Court A Taj Hotel London, with count of 61.\n"
     ]
    }
   ],
   "metadata": {}
  },
  {
   "cell_type": "markdown",
   "source": [
    "How many reviews are there per hotel (frequency count of hotel) in the dataset?"
   ],
   "metadata": {}
  },
  {
   "cell_type": "code",
   "execution_count": 125,
   "source": [
    "# First create a new dataframe based on the old one, removing the uneeded columns\r\n",
    "hotel_freq_df = df.loc[:, [\"Hotel_Name\", \"Total_Number_of_Reviews\"]]\r\n",
    "\r\n",
    "# Group the rows by Hotel_Name, count them and put the result in a new column Total_Reviews_Found\r\n",
    "hotel_freq_df[\"Total_Reviews\"] = hotel_freq_df.groupby(\"Hotel_Name\").transform(\"count\")\r\n",
    "\r\n",
    "# Get rid of all the duplicated rows\r\n",
    "hotel_freq_df = hotel_freq_df.drop_duplicates(subset = [\"Hotel_Name\"]).sort_values(\"Total_Reviews\", ascending=False)\r\n",
    "display(hotel_freq_df) "
   ],
   "outputs": [
    {
     "output_type": "display_data",
     "data": {
      "text/html": [
       "<div>\n",
       "<style scoped>\n",
       "    .dataframe tbody tr th:only-of-type {\n",
       "        vertical-align: middle;\n",
       "    }\n",
       "\n",
       "    .dataframe tbody tr th {\n",
       "        vertical-align: top;\n",
       "    }\n",
       "\n",
       "    .dataframe thead th {\n",
       "        text-align: right;\n",
       "    }\n",
       "</style>\n",
       "<table border=\"1\" class=\"dataframe\">\n",
       "  <thead>\n",
       "    <tr style=\"text-align: right;\">\n",
       "      <th></th>\n",
       "      <th>Hotel_Name</th>\n",
       "      <th>Total_Number_of_Reviews</th>\n",
       "      <th>Total_Reviews</th>\n",
       "    </tr>\n",
       "  </thead>\n",
       "  <tbody>\n",
       "    <tr>\n",
       "      <th>63942</th>\n",
       "      <td>Britannia International Hotel Canary Wharf</td>\n",
       "      <td>9086</td>\n",
       "      <td>4789</td>\n",
       "    </tr>\n",
       "    <tr>\n",
       "      <th>164259</th>\n",
       "      <td>Strand Palace Hotel</td>\n",
       "      <td>9568</td>\n",
       "      <td>4256</td>\n",
       "    </tr>\n",
       "    <tr>\n",
       "      <th>504027</th>\n",
       "      <td>Park Plaza Westminster Bridge London</td>\n",
       "      <td>12158</td>\n",
       "      <td>4169</td>\n",
       "    </tr>\n",
       "    <tr>\n",
       "      <th>440985</th>\n",
       "      <td>Copthorne Tara Hotel London Kensington</td>\n",
       "      <td>7105</td>\n",
       "      <td>3578</td>\n",
       "    </tr>\n",
       "    <tr>\n",
       "      <th>236055</th>\n",
       "      <td>DoubleTree by Hilton Hotel London Tower of London</td>\n",
       "      <td>7491</td>\n",
       "      <td>3212</td>\n",
       "    </tr>\n",
       "    <tr>\n",
       "      <th>...</th>\n",
       "      <td>...</td>\n",
       "      <td>...</td>\n",
       "      <td>...</td>\n",
       "    </tr>\n",
       "    <tr>\n",
       "      <th>485009</th>\n",
       "      <td>Ibis Styles Milano Palmanova</td>\n",
       "      <td>207</td>\n",
       "      <td>12</td>\n",
       "    </tr>\n",
       "    <tr>\n",
       "      <th>324004</th>\n",
       "      <td>Hotel Eitlj rg</td>\n",
       "      <td>131</td>\n",
       "      <td>12</td>\n",
       "    </tr>\n",
       "    <tr>\n",
       "      <th>481328</th>\n",
       "      <td>Hotel Wagner</td>\n",
       "      <td>135</td>\n",
       "      <td>10</td>\n",
       "    </tr>\n",
       "    <tr>\n",
       "      <th>43688</th>\n",
       "      <td>Mercure Paris Porte d Orleans</td>\n",
       "      <td>110</td>\n",
       "      <td>10</td>\n",
       "    </tr>\n",
       "    <tr>\n",
       "      <th>350451</th>\n",
       "      <td>Hotel Gallitzinberg</td>\n",
       "      <td>173</td>\n",
       "      <td>8</td>\n",
       "    </tr>\n",
       "  </tbody>\n",
       "</table>\n",
       "<p>1492 rows × 3 columns</p>\n",
       "</div>"
      ],
      "text/plain": [
       "                                               Hotel_Name  \\\n",
       "63942          Britannia International Hotel Canary Wharf   \n",
       "164259                                Strand Palace Hotel   \n",
       "504027               Park Plaza Westminster Bridge London   \n",
       "440985             Copthorne Tara Hotel London Kensington   \n",
       "236055  DoubleTree by Hilton Hotel London Tower of London   \n",
       "...                                                   ...   \n",
       "485009                       Ibis Styles Milano Palmanova   \n",
       "324004                                     Hotel Eitlj rg   \n",
       "481328                                       Hotel Wagner   \n",
       "43688                       Mercure Paris Porte d Orleans   \n",
       "350451                                Hotel Gallitzinberg   \n",
       "\n",
       "        Total_Number_of_Reviews  Total_Reviews  \n",
       "63942                      9086           4789  \n",
       "164259                     9568           4256  \n",
       "504027                    12158           4169  \n",
       "440985                     7105           3578  \n",
       "236055                     7491           3212  \n",
       "...                         ...            ...  \n",
       "485009                      207             12  \n",
       "324004                      131             12  \n",
       "481328                      135             10  \n",
       "43688                       110             10  \n",
       "350451                      173              8  \n",
       "\n",
       "[1492 rows x 3 columns]"
      ]
     },
     "metadata": {}
    }
   ],
   "metadata": {}
  },
  {
   "cell_type": "markdown",
   "source": [
    "While there is an Average_Score column for each hotel in the dataset, you can also calculate an average score (getting the average of all reviewer scores in the dataset for each hotel). Add a new column to your dataframe with the column header Calc_Average_Score that contains that calculated average."
   ],
   "metadata": {}
  },
  {
   "cell_type": "code",
   "execution_count": 162,
   "source": [
    "hotel_avg_df = df.loc[:, [\"Hotel_Name\", \"Average_Score\"]].drop_duplicates()\r\n",
    "\r\n",
    "#hotel_avg_df[\"Calc_Average_Score\"] = df.groupby(\"Hotel_Name\", as_index=False).mean().values\r\n",
    "hotel_avg_df[\"Calc_Average_Score\"] = df.groupby('Hotel_Name').Reviewer_Score.transform('mean')\r\n",
    "\r\n",
    "display(hotel_avg_df)\r\n"
   ],
   "outputs": [
    {
     "output_type": "display_data",
     "data": {
      "text/html": [
       "<div>\n",
       "<style scoped>\n",
       "    .dataframe tbody tr th:only-of-type {\n",
       "        vertical-align: middle;\n",
       "    }\n",
       "\n",
       "    .dataframe tbody tr th {\n",
       "        vertical-align: top;\n",
       "    }\n",
       "\n",
       "    .dataframe thead th {\n",
       "        text-align: right;\n",
       "    }\n",
       "</style>\n",
       "<table border=\"1\" class=\"dataframe\">\n",
       "  <thead>\n",
       "    <tr style=\"text-align: right;\">\n",
       "      <th></th>\n",
       "      <th>Hotel_Name</th>\n",
       "      <th>Average_Score</th>\n",
       "      <th>Calc_Average_Score</th>\n",
       "    </tr>\n",
       "  </thead>\n",
       "  <tbody>\n",
       "    <tr>\n",
       "      <th>0</th>\n",
       "      <td>Hotel Arena</td>\n",
       "      <td>7.7</td>\n",
       "      <td>7.836296</td>\n",
       "    </tr>\n",
       "    <tr>\n",
       "      <th>405</th>\n",
       "      <td>K K Hotel George</td>\n",
       "      <td>8.5</td>\n",
       "      <td>8.602827</td>\n",
       "    </tr>\n",
       "    <tr>\n",
       "      <th>971</th>\n",
       "      <td>Apex Temple Court Hotel</td>\n",
       "      <td>9.2</td>\n",
       "      <td>9.298843</td>\n",
       "    </tr>\n",
       "    <tr>\n",
       "      <th>2008</th>\n",
       "      <td>The Park Grand London Paddington</td>\n",
       "      <td>7.7</td>\n",
       "      <td>7.711469</td>\n",
       "    </tr>\n",
       "    <tr>\n",
       "      <th>3778</th>\n",
       "      <td>Monhotel Lounge SPA</td>\n",
       "      <td>8.4</td>\n",
       "      <td>8.848571</td>\n",
       "    </tr>\n",
       "    <tr>\n",
       "      <th>...</th>\n",
       "      <td>...</td>\n",
       "      <td>...</td>\n",
       "      <td>...</td>\n",
       "    </tr>\n",
       "    <tr>\n",
       "      <th>511962</th>\n",
       "      <td>Suite Hotel 900 m zur Oper</td>\n",
       "      <td>8.0</td>\n",
       "      <td>8.021185</td>\n",
       "    </tr>\n",
       "    <tr>\n",
       "      <th>512401</th>\n",
       "      <td>Hotel Amadeus</td>\n",
       "      <td>8.9</td>\n",
       "      <td>8.929861</td>\n",
       "    </tr>\n",
       "    <tr>\n",
       "      <th>512545</th>\n",
       "      <td>The Berkeley</td>\n",
       "      <td>9.1</td>\n",
       "      <td>9.064000</td>\n",
       "    </tr>\n",
       "    <tr>\n",
       "      <th>512645</th>\n",
       "      <td>Holiday Inn London Kensington</td>\n",
       "      <td>7.8</td>\n",
       "      <td>7.723591</td>\n",
       "    </tr>\n",
       "    <tr>\n",
       "      <th>515413</th>\n",
       "      <td>Atlantis Hotel Vienna</td>\n",
       "      <td>8.1</td>\n",
       "      <td>7.760000</td>\n",
       "    </tr>\n",
       "  </tbody>\n",
       "</table>\n",
       "<p>1493 rows × 3 columns</p>\n",
       "</div>"
      ],
      "text/plain": [
       "                              Hotel_Name  Average_Score  Calc_Average_Score\n",
       "0                            Hotel Arena            7.7            7.836296\n",
       "405                     K K Hotel George            8.5            8.602827\n",
       "971              Apex Temple Court Hotel            9.2            9.298843\n",
       "2008    The Park Grand London Paddington            7.7            7.711469\n",
       "3778                 Monhotel Lounge SPA            8.4            8.848571\n",
       "...                                  ...            ...                 ...\n",
       "511962        Suite Hotel 900 m zur Oper            8.0            8.021185\n",
       "512401                     Hotel Amadeus            8.9            8.929861\n",
       "512545                      The Berkeley            9.1            9.064000\n",
       "512645     Holiday Inn London Kensington            7.8            7.723591\n",
       "515413             Atlantis Hotel Vienna            8.1            7.760000\n",
       "\n",
       "[1493 rows x 3 columns]"
      ]
     },
     "metadata": {}
    }
   ],
   "metadata": {}
  },
  {
   "cell_type": "markdown",
   "source": [
    "Calculate and print out how many rows have column Negative_Review values of \"No Negative\"\r\n",
    "\r\n",
    "Calculate and print out how many rows have column Positive_Review values of \"No Positive\"\r\n"
   ],
   "metadata": {}
  },
  {
   "cell_type": "code",
   "execution_count": 173,
   "source": [
    "no_neg = df.loc[df.Negative_Review == \"No Negative\", \"Negative_Review\"].count()\r\n",
    "no_pos = df.loc[df.Positive_Review == \"No Positive\", \"Positive_Review\"].count()\r\n",
    "no_pos_neg = df.loc[df.Positive_Review == \"No Positive\" or df.Negative_Review == \"No Negative\", [\"Positive_Review\", \"Negative_Review\"]].count()\r\n",
    "\r\n",
    "print(f\"{no_neg} No Negatives, {no_pos} No Positives, {no_pos_neg} both No Negatives and No Positives\")"
   ],
   "outputs": [
    {
     "output_type": "error",
     "ename": "ValueError",
     "evalue": "The truth value of a Series is ambiguous. Use a.empty, a.bool(), a.item(), a.any() or a.all().",
     "traceback": [
      "\u001b[1;31m---------------------------------------------------------------------------\u001b[0m",
      "\u001b[1;31mValueError\u001b[0m                                Traceback (most recent call last)",
      "\u001b[1;32m~\\AppData\\Local\\Temp/ipykernel_20292/105356062.py\u001b[0m in \u001b[0;36m<module>\u001b[1;34m\u001b[0m\n\u001b[0;32m      1\u001b[0m \u001b[0mno_neg\u001b[0m \u001b[1;33m=\u001b[0m \u001b[0mdf\u001b[0m\u001b[1;33m.\u001b[0m\u001b[0mloc\u001b[0m\u001b[1;33m[\u001b[0m\u001b[0mdf\u001b[0m\u001b[1;33m.\u001b[0m\u001b[0mNegative_Review\u001b[0m \u001b[1;33m==\u001b[0m \u001b[1;34m\"No Negative\"\u001b[0m\u001b[1;33m,\u001b[0m \u001b[1;34m\"Negative_Review\"\u001b[0m\u001b[1;33m]\u001b[0m\u001b[1;33m.\u001b[0m\u001b[0mcount\u001b[0m\u001b[1;33m(\u001b[0m\u001b[1;33m)\u001b[0m\u001b[1;33m\u001b[0m\u001b[1;33m\u001b[0m\u001b[0m\n\u001b[0;32m      2\u001b[0m \u001b[0mno_pos\u001b[0m \u001b[1;33m=\u001b[0m \u001b[0mdf\u001b[0m\u001b[1;33m.\u001b[0m\u001b[0mloc\u001b[0m\u001b[1;33m[\u001b[0m\u001b[0mdf\u001b[0m\u001b[1;33m.\u001b[0m\u001b[0mPositive_Review\u001b[0m \u001b[1;33m==\u001b[0m \u001b[1;34m\"No Positive\"\u001b[0m\u001b[1;33m,\u001b[0m \u001b[1;34m\"Positive_Review\"\u001b[0m\u001b[1;33m]\u001b[0m\u001b[1;33m.\u001b[0m\u001b[0mcount\u001b[0m\u001b[1;33m(\u001b[0m\u001b[1;33m)\u001b[0m\u001b[1;33m\u001b[0m\u001b[1;33m\u001b[0m\u001b[0m\n\u001b[1;32m----> 3\u001b[1;33m \u001b[0mno_pos_neg\u001b[0m \u001b[1;33m=\u001b[0m \u001b[0mdf\u001b[0m\u001b[1;33m.\u001b[0m\u001b[0mloc\u001b[0m\u001b[1;33m[\u001b[0m\u001b[0mdf\u001b[0m\u001b[1;33m.\u001b[0m\u001b[0mPositive_Review\u001b[0m \u001b[1;33m==\u001b[0m \u001b[1;34m\"No Positive\"\u001b[0m \u001b[1;32mor\u001b[0m \u001b[0mdf\u001b[0m\u001b[1;33m.\u001b[0m\u001b[0mNegative_Review\u001b[0m \u001b[1;33m==\u001b[0m \u001b[1;34m\"No Negative\"\u001b[0m\u001b[1;33m,\u001b[0m \u001b[1;34m\"Positive_Review\"\u001b[0m\u001b[1;33m,\u001b[0m \u001b[1;34m\"Negative_Review\"\u001b[0m\u001b[1;33m]\u001b[0m\u001b[1;33m.\u001b[0m\u001b[0mcount\u001b[0m\u001b[1;33m(\u001b[0m\u001b[1;33m)\u001b[0m\u001b[1;33m\u001b[0m\u001b[1;33m\u001b[0m\u001b[0m\n\u001b[0m\u001b[0;32m      4\u001b[0m \u001b[1;33m\u001b[0m\u001b[0m\n\u001b[0;32m      5\u001b[0m \u001b[0mprint\u001b[0m\u001b[1;33m(\u001b[0m\u001b[1;34mf\"{no_neg} No Negatives, {no_pos} No Positives, {no_pos_neg} both No Negatives and No Positives\"\u001b[0m\u001b[1;33m)\u001b[0m\u001b[1;33m\u001b[0m\u001b[1;33m\u001b[0m\u001b[0m\n",
      "\u001b[1;32m~\\AppData\\Local\\Programs\\Python\\Python39\\lib\\site-packages\\pandas\\core\\generic.py\u001b[0m in \u001b[0;36m__nonzero__\u001b[1;34m(self)\u001b[0m\n\u001b[0;32m   1535\u001b[0m     \u001b[1;33m@\u001b[0m\u001b[0mfinal\u001b[0m\u001b[1;33m\u001b[0m\u001b[1;33m\u001b[0m\u001b[0m\n\u001b[0;32m   1536\u001b[0m     \u001b[1;32mdef\u001b[0m \u001b[0m__nonzero__\u001b[0m\u001b[1;33m(\u001b[0m\u001b[0mself\u001b[0m\u001b[1;33m)\u001b[0m\u001b[1;33m:\u001b[0m\u001b[1;33m\u001b[0m\u001b[1;33m\u001b[0m\u001b[0m\n\u001b[1;32m-> 1537\u001b[1;33m         raise ValueError(\n\u001b[0m\u001b[0;32m   1538\u001b[0m             \u001b[1;34mf\"The truth value of a {type(self).__name__} is ambiguous. \"\u001b[0m\u001b[1;33m\u001b[0m\u001b[1;33m\u001b[0m\u001b[0m\n\u001b[0;32m   1539\u001b[0m             \u001b[1;34m\"Use a.empty, a.bool(), a.item(), a.any() or a.all().\"\u001b[0m\u001b[1;33m\u001b[0m\u001b[1;33m\u001b[0m\u001b[0m\n",
      "\u001b[1;31mValueError\u001b[0m: The truth value of a Series is ambiguous. Use a.empty, a.bool(), a.item(), a.any() or a.all()."
     ]
    }
   ],
   "metadata": {}
  },
  {
   "cell_type": "markdown",
   "source": [],
   "metadata": {}
  }
 ],
 "metadata": {
  "orig_nbformat": 4,
  "language_info": {
   "name": "python",
   "version": "3.9.7",
   "mimetype": "text/x-python",
   "codemirror_mode": {
    "name": "ipython",
    "version": 3
   },
   "pygments_lexer": "ipython3",
   "nbconvert_exporter": "python",
   "file_extension": ".py"
  },
  "kernelspec": {
   "name": "python3",
   "display_name": "Python 3.9.7 64-bit"
  },
  "interpreter": {
   "hash": "3de6c233c2b6517ff24b667833eb0ffa74fcba4af1a9cd9fcd9c6dbe754c2f5a"
  }
 },
 "nbformat": 4,
 "nbformat_minor": 2
}