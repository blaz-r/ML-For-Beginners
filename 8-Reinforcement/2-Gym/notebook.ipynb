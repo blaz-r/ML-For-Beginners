{
 "cells": [
  {
   "cell_type": "markdown",
   "metadata": {},
   "source": [
    "## CartPole Skating\n",
    "\n",
    "> **Problem**: If Peter wants to escape from the wolf, he needs to be able to move faster than him. We will see how Peter can learn to skate, in particular, to keep balance, using Q-Learning.\n",
    "\n",
    "First, let's install the gym and import required libraries:"
   ]
  },
  {
   "cell_type": "code",
   "execution_count": 25,
   "metadata": {},
   "outputs": [],
   "source": [
    "import gym\n",
    "import matplotlib.pyplot as plt\n",
    "import numpy as np\n",
    "import random"
   ]
  },
  {
   "cell_type": "markdown",
   "metadata": {},
   "source": [
    "## Create a cartpole environment"
   ]
  },
  {
   "cell_type": "code",
   "execution_count": 26,
   "metadata": {},
   "outputs": [
    {
     "name": "stdout",
     "output_type": "stream",
     "text": [
      "Discrete(2)\n",
      "Box([-4.8000002e+00 -3.4028235e+38 -4.1887903e-01 -3.4028235e+38], [4.8000002e+00 3.4028235e+38 4.1887903e-01 3.4028235e+38], (4,), float32)\n",
      "0\n"
     ]
    }
   ],
   "source": [
    "env = gym.make(\"CartPole-v1\")\n",
    "\n",
    "print(env.action_space)\n",
    "print(env.observation_space)\n",
    "print(env.action_space.sample())"
   ]
  },
  {
   "cell_type": "markdown",
   "metadata": {},
   "source": [
    "To see how the environment works, let's run a short simulation for 100 steps."
   ]
  },
  {
   "cell_type": "code",
   "execution_count": 27,
   "metadata": {},
   "outputs": [
    {
     "name": "stderr",
     "output_type": "stream",
     "text": [
      "C:\\Users\\blazr\\AppData\\Local\\Programs\\Python\\Python39\\lib\\site-packages\\gym\\envs\\classic_control\\cartpole.py:150: UserWarning: \u001b[33mWARN: You are calling 'step()' even though this environment has already returned done = True. You should always call 'reset()' once you receive 'done = True' -- any further steps are undefined behavior.\u001b[0m\n",
      "  logger.warn(\n"
     ]
    }
   ],
   "source": [
    "env.reset()\n",
    "\n",
    "for i in range(100):\n",
    "    env.render()\n",
    "    env.step(env.action_space.sample())\n",
    "env.close()"
   ]
  },
  {
   "cell_type": "markdown",
   "metadata": {},
   "source": [
    "During simulation, we need to get observations in order to decide how to act. In fact, `step` function returns us back current observations, reward function, and the `done` flag that indicates whether it makes sense to continue the simulation or not:"
   ]
  },
  {
   "cell_type": "code",
   "execution_count": 28,
   "metadata": {},
   "outputs": [
    {
     "name": "stdout",
     "output_type": "stream",
     "text": [
      "[-0.00951606 -0.16424844 -0.04867884  0.25843555] -> 1.0\n",
      "[-0.01280103 -0.35864285 -0.04351013  0.53537583] -> 1.0\n",
      "[-0.01997389 -0.16293696 -0.03280261  0.22930686] -> 1.0\n",
      "[-0.02323263  0.03263802 -0.02821648 -0.07354002] -> 1.0\n",
      "[-0.02257987  0.22815289 -0.02968728 -0.37499014] -> 1.0\n",
      "[-0.01801681  0.03346493 -0.03718708 -0.09181363] -> 1.0\n",
      "[-0.01734751  0.22909962 -0.03902335 -0.39599326] -> 1.0\n",
      "[-0.01276552  0.03455244 -0.04694322 -0.11586463] -> 1.0\n",
      "[-0.01207447  0.23031448 -0.04926051 -0.42298043] -> 1.0\n",
      "[-0.00746818  0.03592375 -0.05772012 -0.14622478] -> 1.0\n",
      "[-0.00674971 -0.15832615 -0.06064461  0.12770453] -> 1.0\n",
      "[-0.00991623 -0.35252926 -0.05809052  0.40065512] -> 1.0\n",
      "[-0.01696681 -0.5467812  -0.05007742  0.67447245] -> 1.0\n",
      "[-0.02790244 -0.74117273 -0.03658797  0.9509776 ] -> 1.0\n",
      "[-0.04272589 -0.9357836  -0.01756842  1.2319442 ] -> 1.0\n",
      "[-0.06144156 -1.1306753   0.00707047  1.5190717 ] -> 1.0\n",
      "[-0.08405507 -0.9356395   0.0374519   1.2286041 ] -> 1.0\n",
      "[-0.10276786 -0.741019    0.06202398  0.9478863 ] -> 1.0\n",
      "[-0.11758824 -0.5467846   0.08098171  0.67531824] -> 1.0\n",
      "[-0.12852393 -0.3528758   0.09448807  0.4091909 ] -> 1.0\n",
      "[-0.13558145 -0.15921162  0.10267189  0.1477286 ] -> 1.0\n",
      "[-0.13876568 -0.35564256  0.10562646  0.47095588] -> 1.0\n",
      "[-0.14587854 -0.5520855   0.11504558  0.79497457] -> 1.0\n",
      "[-0.15692024 -0.3587146   0.13094507  0.54058444] -> 1.0\n",
      "[-0.16409454 -0.5554105   0.14175676  0.87149036] -> 1.0\n",
      "[-0.17520274 -0.7521463   0.15918657  1.205171  ] -> 1.0\n",
      "[-0.19024567 -0.5593987   0.18328999  0.96630853] -> 1.0\n",
      "[-0.20143364 -0.7564458   0.20261616  1.3105142 ] -> 1.0\n",
      "[-0.21656257 -0.95347375  0.22882645  1.6591728 ] -> 1.0\n"
     ]
    }
   ],
   "source": [
    "env.reset()\n",
    "\n",
    "done = False\n",
    "while not done:\n",
    "   env.render()\n",
    "   obs, rew, done, info = env.step(env.action_space.sample())\n",
    "   print(f\"{obs} -> {rew}\")\n",
    "env.close()"
   ]
  },
  {
   "cell_type": "markdown",
   "metadata": {},
   "source": [
    "We can get min and max value of those numbers:"
   ]
  },
  {
   "cell_type": "code",
   "execution_count": 29,
   "metadata": {},
   "outputs": [
    {
     "name": "stdout",
     "output_type": "stream",
     "text": [
      "[-4.8000002e+00 -3.4028235e+38 -4.1887903e-01 -3.4028235e+38]\n",
      "[4.8000002e+00 3.4028235e+38 4.1887903e-01 3.4028235e+38]\n"
     ]
    }
   ],
   "source": [
    "print(env.observation_space.low)\n",
    "print(env.observation_space.high)"
   ]
  },
  {
   "cell_type": "markdown",
   "metadata": {},
   "source": [
    "## State Discretization"
   ]
  },
  {
   "cell_type": "code",
   "execution_count": 30,
   "metadata": {},
   "outputs": [],
   "source": [
    "def discretize(x):\n",
    "    return tuple((x/np.array([0.25, 0.25, 0.01, 0.1])).astype(int ))"
   ]
  },
  {
   "cell_type": "markdown",
   "metadata": {},
   "source": [
    "Let's also explore other discretization method using bins:"
   ]
  },
  {
   "cell_type": "code",
   "execution_count": 31,
   "metadata": {},
   "outputs": [
    {
     "name": "stdout",
     "output_type": "stream",
     "text": [
      "Sample bins for interval (-5,5) with 10 bins\n",
      " [-5. -4. -3. -2. -1.  0.  1.  2.  3.  4.  5.]\n"
     ]
    }
   ],
   "source": [
    "def create_bins(i, num):\n",
    "    return np.arange(num+1)*(i[1]-i[0])/num+i[0]\n",
    "\n",
    "print(\"Sample bins for interval (-5,5) with 10 bins\\n\",create_bins((-5,5),10))\n",
    "\n",
    "ints = [(-5,5),(-2,2),(-0.5,0.5),(-2,2)] # intervals of values for each parameter\n",
    "nbins = [20,20,10,10] # number of bins for each parameter\n",
    "bins = [create_bins(ints[i],nbins[i]) for i in range(4)]\n",
    "\n",
    "def discretize_bins(x):\n",
    "    return tuple(np.digitize(x[i],bins[i]) for i in range(4))"
   ]
  },
  {
   "cell_type": "markdown",
   "metadata": {},
   "source": [
    "Let's now run a short simulation and observe those discrete environment values."
   ]
  },
  {
   "cell_type": "code",
   "execution_count": 32,
   "metadata": {},
   "outputs": [
    {
     "name": "stdout",
     "output_type": "stream",
     "text": [
      "(0, 0, -3, 2)\n",
      "(0, 0, -3, 0)\n",
      "(0, 0, -3, 2)\n",
      "(0, -1, -2, 5)\n",
      "(0, -2, -1, 8)\n",
      "(0, -1, 0, 5)\n",
      "(0, -2, 1, 8)\n",
      "(0, -1, 2, 5)\n",
      "(0, -2, 4, 8)\n",
      "(0, -3, 5, 11)\n",
      "(0, -2, 8, 8)\n",
      "(0, -1, 9, 6)\n",
      "(0, -2, 11, 9)\n",
      "(0, -3, 12, 12)\n",
      "(0, -3, 15, 15)\n",
      "(0, -3, 18, 13)\n",
      "(0, -2, 21, 11)\n"
     ]
    }
   ],
   "source": [
    "env.reset()\n",
    "\n",
    "done = False\n",
    "while not done:\n",
    "   #env.render()\n",
    "   obs, rew, done, info = env.step(env.action_space.sample())\n",
    "   #print(discretize_bins(obs))\n",
    "   print(discretize(obs))\n",
    "env.close()"
   ]
  },
  {
   "cell_type": "markdown",
   "metadata": {},
   "source": [
    "## Q-Table Structure"
   ]
  },
  {
   "cell_type": "code",
   "execution_count": 33,
   "metadata": {},
   "outputs": [],
   "source": [
    "Q = {}\n",
    "actions = (0, 1)\n",
    "\n",
    "def qvalues(state):\n",
    "    return [Q.get((state, a), 0) for a in actions]"
   ]
  },
  {
   "cell_type": "markdown",
   "metadata": {},
   "source": [
    "## Let's Start Q-Learning!"
   ]
  },
  {
   "cell_type": "code",
   "execution_count": 34,
   "metadata": {},
   "outputs": [],
   "source": [
    "alpha = 0.3\n",
    "gamma = 0.9\n",
    "epsilon = 0.90"
   ]
  },
  {
   "cell_type": "code",
   "execution_count": 35,
   "metadata": {},
   "outputs": [
    {
     "name": "stdout",
     "output_type": "stream",
     "text": [
      "0: 54.0, alpha=0.3, epsilon=0.9\n",
      "5000: 81.112, alpha=0.3, epsilon=0.9\n",
      "10000: 117.9524, alpha=0.3, epsilon=0.9\n",
      "15000: 132.8202, alpha=0.3, epsilon=0.9\n",
      "20000: 163.2538, alpha=0.3, epsilon=0.9\n",
      "25000: 178.4618, alpha=0.3, epsilon=0.9\n",
      "30000: 195.3468, alpha=0.3, epsilon=0.9\n",
      "35000: 212.5484, alpha=0.3, epsilon=0.9\n",
      "40000: 224.0374, alpha=0.3, epsilon=0.9\n",
      "45000: 225.4388, alpha=0.3, epsilon=0.9\n",
      "50000: 220.913, alpha=0.3, epsilon=0.9\n",
      "55000: 240.6086, alpha=0.3, epsilon=0.9\n",
      "60000: 250.5246, alpha=0.3, epsilon=0.9\n",
      "65000: 262.8568, alpha=0.3, epsilon=0.9\n",
      "70000: 268.4128, alpha=0.3, epsilon=0.9\n",
      "75000: 259.9512, alpha=0.3, epsilon=0.9\n",
      "80000: 275.0912, alpha=0.3, epsilon=0.9\n",
      "85000: 280.738, alpha=0.3, epsilon=0.9\n",
      "90000: 285.7572, alpha=0.3, epsilon=0.9\n",
      "95000: 289.426, alpha=0.3, epsilon=0.9\n"
     ]
    }
   ],
   "source": [
    "def probs(v,eps=1e-4):\n",
    "    v = v-v.min()+eps\n",
    "    v = v/v.sum()\n",
    "    return v\n",
    "\n",
    "Qmax = 0\n",
    "cum_rewards = []\n",
    "rewards = []\n",
    "for epoch in range(100000):\n",
    "    obs = env.reset()\n",
    "    done = False\n",
    "    cum_reward=0\n",
    "    # == do the simulation ==\n",
    "    while not done:\n",
    "        s = discretize(obs)\n",
    "        if random.random()<epsilon:\n",
    "            # exploitation - chose the action according to Q-Table probabilities\n",
    "            v = probs(np.array(qvalues(s)))\n",
    "            a = random.choices(actions,weights=v)[0]\n",
    "        else:\n",
    "            # exploration - randomly chose the action\n",
    "            a = np.random.randint(env.action_space.n)\n",
    "\n",
    "        obs, rew, done, info = env.step(a)\n",
    "        cum_reward+=rew\n",
    "        ns = discretize(obs)\n",
    "        Q[(s,a)] = (1 - alpha) * Q.get((s,a),0) + alpha * (rew + gamma * max(qvalues(ns)))\n",
    "    cum_rewards.append(cum_reward)\n",
    "    rewards.append(cum_reward)\n",
    "    # == Periodically print results and calculate average reward ==\n",
    "    if epoch%5000==0:\n",
    "        print(f\"{epoch}: {np.average(cum_rewards)}, alpha={alpha}, epsilon={epsilon}\")\n",
    "        if np.average(cum_rewards) > Qmax:\n",
    "            Qmax = np.average(cum_rewards)\n",
    "            Qbest = dict(Q)\n",
    "        cum_rewards=[]"
   ]
  },
  {
   "cell_type": "markdown",
   "metadata": {},
   "source": [
    "## Plotting Training Progress"
   ]
  },
  {
   "cell_type": "code",
   "execution_count": 40,
   "metadata": {},
   "outputs": [
    {
     "name": "stdout",
     "output_type": "stream",
     "text": [
      "2927152546944\n",
      "2927032969984\n"
     ]
    },
    {
     "data": {
      "text/plain": [
       "[<matplotlib.lines.Line2D at 0x2a9fc58ea90>]"
      ]
     },
     "execution_count": 40,
     "metadata": {},
     "output_type": "execute_result"
    },
    {
     "data": {
      "image/png": "[encoded data removed]",
      "text/plain": [
       "<Figure size 432x288 with 1 Axes>"
      ]
     },
     "metadata": {
      "needs_background": "light"
     },
     "output_type": "display_data"
    }
   ],
   "source": [
    "print(id(Qbest))\n",
    "print(id(Q))\n",
    "\n",
    "plt.plot(rewards)"
   ]
  },
  {
   "cell_type": "markdown",
   "metadata": {},
   "source": [
    "From this graph, it is not possible to tell anything, because due to the nature of stochastic training process the length of training sessions varies greatly. To make more sense of this graph, we can calculate **running average** over series of experiments, let's say 100. This can be done conveniently using `np.convolve`:"
   ]
  },
  {
   "cell_type": "code",
   "execution_count": 41,
   "metadata": {},
   "outputs": [
    {
     "data": {
      "text/plain": [
       "[<matplotlib.lines.Line2D at 0x2a9884c9f40>]"
      ]
     },
     "execution_count": 41,
     "metadata": {},
     "output_type": "execute_result"
    },
    {
     "data": {
      "image/png": "[encoded data removed]",
      "text/plain": [
       "<Figure size 432x288 with 1 Axes>"
      ]
     },
     "metadata": {
      "needs_background": "light"
     },
     "output_type": "display_data"
    }
   ],
   "source": [
    "def running_average(x,window):\n",
    "    return np.convolve(x,np.ones(window)/window,mode='valid')\n",
    "\n",
    "plt.plot(running_average(rewards,100))"
   ]
  },
  {
   "cell_type": "markdown",
   "metadata": {},
   "source": [
    "At this point model is quite good, achieving score of 290, whihc is far above required 195:\n",
    "\n",
    "0: 54.0, alpha=0.3, epsilon=0.9\n",
    "5000: 81.112, alpha=0.3, epsilon=0.9\n",
    "10000: 117.9524, alpha=0.3, epsilon=0.9\n",
    "15000: 132.8202, alpha=0.3, epsilon=0.9\n",
    "20000: 163.2538, alpha=0.3, epsilon=0.9\n",
    "25000: 178.4618, alpha=0.3, epsilon=0.9\n",
    "30000: 195.3468, alpha=0.3, epsilon=0.9\n",
    "35000: 212.5484, alpha=0.3, epsilon=0.9\n",
    "40000: 224.0374, alpha=0.3, epsilon=0.9\n",
    "45000: 225.4388, alpha=0.3, epsilon=0.9\n",
    "50000: 220.913, alpha=0.3, epsilon=0.9\n",
    "55000: 240.6086, alpha=0.3, epsilon=0.9\n",
    "60000: 250.5246, alpha=0.3, epsilon=0.9\n",
    "65000: 262.8568, alpha=0.3, epsilon=0.9\n",
    "70000: 268.4128, alpha=0.3, epsilon=0.9\n",
    "75000: 259.9512, alpha=0.3, epsilon=0.9\n",
    "80000: 275.0912, alpha=0.3, epsilon=0.9\n",
    "85000: 280.738, alpha=0.3, epsilon=0.9\n",
    "90000: 285.7572, alpha=0.3, epsilon=0.9\n",
    "95000: 289.426, alpha=0.3, epsilon=0.9"
   ]
  },
  {
   "cell_type": "markdown",
   "metadata": {},
   "source": [
    "## Varying Hyperparameters and Seeing the Result in Action\n",
    "\n",
    "Now it would be interesting to actually see how the trained model behaves. Let's run the simulation, and we will be following the same action selection strategy as during training: sampling according to the probability distribution in Q-Table: "
   ]
  },
  {
   "cell_type": "code",
   "execution_count": 43,
   "metadata": {},
   "outputs": [],
   "source": [
    "obs = env.reset()\n",
    "done = False\n",
    "while not done:\n",
    "   s = discretize(obs)\n",
    "   env.render()\n",
    "   v = probs(np.array(qvalues(s)))\n",
    "   a = random.choices(actions,weights=v)[0]\n",
    "   obs,_,done,_ = env.step(a)\n",
    "env.close()"
   ]
  },
  {
   "cell_type": "markdown",
   "metadata": {},
   "source": [
    "In this case we always select the case with highest qtable value:"
   ]
  },
  {
   "cell_type": "code",
   "execution_count": 44,
   "metadata": {},
   "outputs": [],
   "source": [
    "obs = env.reset()\n",
    "done = False\n",
    "while not done:\n",
    "   s = discretize(obs)\n",
    "   env.render()\n",
    "   v = probs(np.array(qvalues(s)))\n",
    "   v_max = np.argmax(v)\n",
    "   a = actions[v_max]\n",
    "   obs,_,done,_ = env.step(a)\n",
    "env.close()"
   ]
  },
  {
   "cell_type": "markdown",
   "metadata": {},
   "source": [
    "\n",
    "## Saving result to an animated GIF\n",
    "\n",
    "If you want to impress your friends, you may want to send them the animated GIF picture of the balancing pole. To do this, we can invoke `env.render` to produce an image frame, and then save those to animated GIF using PIL library:"
   ]
  },
  {
   "cell_type": "code",
   "execution_count": 50,
   "metadata": {},
   "outputs": [
    {
     "name": "stdout",
     "output_type": "stream",
     "text": [
      "276\n"
     ]
    }
   ],
   "source": [
    "from PIL import Image\n",
    "obs = env.reset()\n",
    "done = False\n",
    "i=0\n",
    "ims = []\n",
    "while not done:\n",
    "   s = discretize(obs)\n",
    "   img=env.render(mode='rgb_array')\n",
    "   ims.append(Image.fromarray(img))\n",
    "   v = probs(np.array([Qbest.get((s,a),0) for a in actions]))\n",
    "   a = random.choices(actions,weights=v)[0]\n",
    "   obs,_,done,_ = env.step(a)\n",
    "   i+=1\n",
    "env.close()\n",
    "ims[0].save('images/cartpole-balance.gif',save_all=True,append_images=ims[1::2],loop=0,duration=5)\n",
    "print(i)"
   ]
  }
 ],
 "metadata": {
  "interpreter": {
   "hash": "3de6c233c2b6517ff24b667833eb0ffa74fcba4af1a9cd9fcd9c6dbe754c2f5a"
  },
  "kernelspec": {
   "display_name": "Python 3.9.6 64-bit",
   "name": "python3"
  },
  "language_info": {
   "codemirror_mode": {
    "name": "ipython",
    "version": 3
   },
   "file_extension": ".py",
   "mimetype": "text/x-python",
   "name": "python",
   "nbconvert_exporter": "python",
   "pygments_lexer": "ipython3",
   "version": "3.9.6"
  },
  "orig_nbformat": 4
 },
 "nbformat": 4,
 "nbformat_minor": 2
}
