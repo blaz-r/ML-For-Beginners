{
 "cells": [
  {
   "cell_type": "markdown",
   "metadata": {},
   "source": [
    "## Mountain car\n",
    "\n",
    "> **Problem**: Get mountain car from valley to the flag on top of the hill.\n",
    "\n",
    "First import required libraries:"
   ]
  },
  {
   "cell_type": "code",
   "execution_count": 1,
   "metadata": {},
   "outputs": [],
   "source": [
    "import gym\n",
    "import matplotlib.pyplot as plt\n",
    "import numpy as np\n",
    "import random"
   ]
  },
  {
   "cell_type": "markdown",
   "metadata": {},
   "source": [
    "## Create a mountain car environment"
   ]
  },
  {
   "cell_type": "code",
   "execution_count": 2,
   "metadata": {},
   "outputs": [
    {
     "name": "stdout",
     "output_type": "stream",
     "text": [
      "Discrete(3)\n",
      "Box([-1.2  -0.07], [0.6  0.07], (2,), float32)\n",
      "0\n"
     ]
    }
   ],
   "source": [
    "env = gym.make(\"MountainCar-v0\")\n",
    "\n",
    "print(env.action_space)\n",
    "print(env.observation_space)\n",
    "print(env.action_space.sample())"
   ]
  },
  {
   "cell_type": "markdown",
   "metadata": {},
   "source": [
    "To see how the environment works, let's run a short simulation for 100 steps."
   ]
  },
  {
   "cell_type": "code",
   "execution_count": 5,
   "metadata": {},
   "outputs": [],
   "source": [
    "env.reset()\n",
    "\n",
    "for i in range(100):\n",
    "    env.render()\n",
    "    env.step(env.action_space.sample())\n",
    "env.close()"
   ]
  },
  {
   "cell_type": "markdown",
   "metadata": {},
   "source": [
    "During simulation, we need to get observations in order to decide how to act. In fact, `step` function returns us back current observations, reward function, and the `done` flag that indicates whether it makes sense to continue the simulation or not:"
   ]
  },
  {
   "cell_type": "code",
   "execution_count": 6,
   "metadata": {},
   "outputs": [
    {
     "name": "stdout",
     "output_type": "stream",
     "text": [
      "[-0.41528794 -0.00080382] -> -1.0\n",
      "[-0.41588986 -0.00060194] -> -1.0\n",
      "[-0.41828564 -0.00239577] -> -1.0\n",
      "[-0.42045817 -0.00217254] -> -1.0\n",
      "[-0.42439198 -0.00393381] -> -1.0\n",
      "[-0.4290589  -0.00466693] -> -1.0\n",
      "[-0.43342543 -0.00436651] -> -1.0\n",
      "[-0.43746    -0.00403459] -> -1.0\n",
      "[-0.44313347 -0.00567346] -> -1.0\n",
      "[-0.45040458 -0.00727111] -> -1.0\n",
      "[-0.45922026 -0.00881566] -> -1.0\n",
      "[-0.46751577 -0.00829551] -> -1.0\n",
      "[-0.4772299  -0.00971415] -> -1.0\n",
      "[-0.4862907  -0.00906079] -> -1.0\n",
      "[-0.49463072 -0.00834002] -> -1.0\n",
      "[-0.5031877  -0.00855701] -> -1.0\n",
      "[-0.51289773 -0.00971   ] -> -1.0\n",
      "[-0.52368796 -0.01079024] -> -1.0\n",
      "[-0.5354775  -0.01178957] -> -1.0\n",
      "[-0.54717803 -0.0117005 ] -> -1.0\n",
      "[-0.55970186 -0.0125238 ] -> -1.0\n",
      "[-0.57295537 -0.01325356] -> -1.0\n",
      "[-0.58684015 -0.01388473] -> -1.0\n",
      "[-0.6002534  -0.01341326] -> -1.0\n",
      "[-0.6130968  -0.01284341] -> -1.0\n",
      "[-0.626277   -0.01318021] -> -1.0\n",
      "[-0.63769925 -0.01142224] -> -1.0\n",
      "[-0.64728236 -0.0095831 ] -> -1.0\n",
      "[-0.656959   -0.00967662] -> -1.0\n",
      "[-0.66666186 -0.00970288] -> -1.0\n",
      "[-0.6763244  -0.00966255] -> -1.0\n",
      "[-0.68488115 -0.00855677] -> -1.0\n",
      "[-0.692275  -0.0073938] -> -1.0\n",
      "[-0.698457   -0.00618203] -> -1.0\n",
      "[-0.7023869  -0.00392991] -> -1.0\n",
      "[-0.7040393  -0.00165238] -> -1.0\n",
      "[-7.034035e-01  6.357934e-04] -> -1.0\n",
      "[-0.7024836   0.00091988] -> -1.0\n",
      "[-0.7012856   0.00119804] -> -1.0\n",
      "[-0.69881713  0.00246847] -> -1.0\n",
      "[-0.6950942   0.00372291] -> -1.0\n",
      "[-0.69114107  0.00395313] -> -1.0\n",
      "[-0.6859836   0.00515746] -> -1.0\n",
      "[-0.67965585  0.00632774] -> -1.0\n",
      "[-0.6722      0.00745588] -> -1.0\n",
      "[-0.6646662   0.00753384] -> -1.0\n",
      "[-0.65510565  0.00956054] -> -1.0\n",
      "[-0.64558417  0.00952146] -> -1.0\n",
      "[-0.6361681   0.00941606] -> -1.0\n",
      "[-0.62592375  0.01024437] -> -1.0\n",
      "[-0.61592394  0.00999982] -> -1.0\n",
      "[-0.6062405   0.00968343] -> -1.0\n",
      "[-0.59694356  0.00929692] -> -1.0\n",
      "[-0.586101    0.01084257] -> -1.0\n",
      "[-0.5747924  0.0113086] -> -1.0\n",
      "[-0.56310135  0.01169104] -> -1.0\n",
      "[-0.55011475  0.01298662] -> -1.0\n",
      "[-0.5369294   0.01318528] -> -1.0\n",
      "[-0.5226442   0.01428523] -> -1.0\n",
      "[-0.50936615  0.01327807] -> -1.0\n",
      "[-0.49619478  0.01317136] -> -1.0\n",
      "[-0.48222873  0.01396606] -> -1.0\n",
      "[-0.46757212  0.01465658] -> -1.0\n",
      "[-0.45233378  0.01523836] -> -1.0\n",
      "[-0.43662584  0.01570793] -> -1.0\n",
      "[-0.42156282  0.01506301] -> -1.0\n",
      "[-0.4062532   0.01530964] -> -1.0\n",
      "[-0.39280558  0.01344761] -> -1.0\n",
      "[-0.37931392  0.01349164] -> -1.0\n",
      "[-0.36687094  0.01244298] -> -1.0\n",
      "[-0.35556057  0.01131036] -> -1.0\n",
      "[-0.3454578   0.01010278] -> -1.0\n",
      "[-0.3376284   0.00782942] -> -1.0\n",
      "[-0.3301225   0.00750588] -> -1.0\n",
      "[-0.3239876   0.00613492] -> -1.0\n",
      "[-0.31826186  0.00572572] -> -1.0\n",
      "[-0.3149806   0.00328126] -> -1.0\n",
      "[-0.3141638   0.00081679] -> -1.0\n",
      "[-0.31581646 -0.00165265] -> -1.0\n",
      "[-0.3199285  -0.00411204] -> -1.0\n",
      "[-0.3264748  -0.00654628] -> -1.0\n",
      "[-0.3334148  -0.00694003] -> -1.0\n",
      "[-0.34270507 -0.00929027] -> -1.0\n",
      "[-0.35428643 -0.01158135] -> -1.0\n",
      "[-0.36808372 -0.01379729] -> -1.0\n",
      "[-0.3820055 -0.0139218] -> -1.0\n",
      "[-0.39795762 -0.0159521 ] -> -1.0\n",
      "[-0.41382986 -0.01587225] -> -1.0\n",
      "[-0.4315106  -0.01768072] -> -1.0\n",
      "[-0.45087323 -0.01936263] -> -1.0\n",
      "[-0.469777   -0.01890376] -> -1.0\n",
      "[-0.49008265 -0.02030567] -> -1.0\n",
      "[-0.50963926 -0.01955662] -> -1.0\n",
      "[-0.53030056 -0.02066128] -> -1.0\n",
      "[-0.5519116  -0.02161102] -> -1.0\n",
      "[-0.5733105  -0.02139893] -> -1.0\n",
      "[-0.594338   -0.02102747] -> -1.0\n",
      "[-0.6158389 -0.0215009] -> -1.0\n",
      "[-0.63665676 -0.0208179 ] -> -1.0\n",
      "[-0.6556429  -0.01898613] -> -1.0\n",
      "[-0.6746644  -0.01902149] -> -1.0\n",
      "[-0.6935913  -0.01892689] -> -1.0\n",
      "[-0.7122978  -0.01870649] -> -1.0\n",
      "[-0.72966343 -0.01736564] -> -1.0\n",
      "[-0.7465802  -0.01691673] -> -1.0\n",
      "[-0.7629465  -0.01636633] -> -1.0\n",
      "[-0.77766806 -0.01472155] -> -1.0\n",
      "[-0.7906633  -0.01299525] -> -1.0\n",
      "[-0.8008631  -0.01019979] -> -1.0\n",
      "[-0.808215   -0.00735194] -> -1.0\n",
      "[-0.8146824 -0.0064674] -> -1.0\n",
      "[-0.82023376 -0.00555135] -> -1.0\n",
      "[-0.8228426  -0.00260882] -> -1.0\n",
      "[-0.8244966  -0.00165403] -> -1.0\n",
      "[-8.2418811e-01  3.0846742e-04] -> -1.0\n",
      "[-0.8209186   0.00326953] -> -1.0\n",
      "[-0.81470335  0.00621529] -> -1.0\n",
      "[-0.8065719   0.00813144] -> -1.0\n",
      "[-0.797564    0.00900786] -> -1.0\n",
      "[-0.78672504  0.01083895] -> -1.0\n",
      "[-0.7751113   0.01161374] -> -1.0\n",
      "[-0.7617852   0.01332612] -> -1.0\n",
      "[-0.74682087  0.01496433] -> -1.0\n",
      "[-0.72930473  0.01751615] -> -1.0\n",
      "[-0.7103419   0.01896286] -> -1.0\n",
      "[-0.68905056  0.02129131] -> -1.0\n",
      "[-0.6675687   0.02148187] -> -1.0\n",
      "[-0.6440403   0.02352839] -> -1.0\n",
      "[-0.61962813  0.02441217] -> -1.0\n",
      "[-0.59450567  0.02512247] -> -1.0\n",
      "[-0.56785536  0.02665027] -> -1.0\n",
      "[-0.5418742   0.02598122] -> -1.0\n",
      "[-0.51675594  0.02511822] -> -1.0\n",
      "[-0.49268904  0.0240669 ] -> -1.0\n",
      "[-0.4698536   0.02283541] -> -1.0\n",
      "[-0.44641957  0.02343407] -> -1.0\n",
      "[-0.4235592   0.02286038] -> -1.0\n",
      "[-0.4004379   0.02312129] -> -1.0\n",
      "[-0.3792194   0.02121846] -> -1.0\n",
      "[-0.36005026  0.01916916] -> -1.0\n",
      "[-0.3420591   0.01799117] -> -1.0\n",
      "[-0.32436314  0.01769594] -> -1.0\n",
      "[-0.3070741   0.01728907] -> -1.0\n",
      "[-0.29129714  0.01577695] -> -1.0\n",
      "[-0.2771248   0.01417233] -> -1.0\n",
      "[-0.26563713  0.01148768] -> -1.0\n",
      "[-0.25689673  0.00874038] -> -1.0\n",
      "[-0.25094995  0.00594681] -> -1.0\n",
      "[-0.24682748  0.00412245] -> -1.0\n",
      "[-0.24455039  0.00227709] -> -1.0\n",
      "[-0.24513014 -0.00057975] -> -1.0\n",
      "[-0.24756381 -0.00243367] -> -1.0\n",
      "[-0.2508391 -0.0032753] -> -1.0\n",
      "[-0.25493932 -0.00410022] -> -1.0\n",
      "[-0.2608433  -0.00590399] -> -1.0\n",
      "[-0.26952013 -0.00867682] -> -1.0\n",
      "[-0.2809233  -0.01140317] -> -1.0\n",
      "[-0.29399    -0.01306667] -> -1.0\n",
      "[-0.30764574 -0.01365575] -> -1.0\n",
      "[-0.32281017 -0.01516445] -> -1.0\n",
      "[-0.3403911  -0.01758093] -> -1.0\n",
      "[-0.36027795 -0.01988685] -> -1.0\n",
      "[-0.3823413  -0.02206333] -> -1.0\n",
      "[-0.4054326  -0.02309133] -> -1.0\n",
      "[-0.43039176 -0.02495913] -> -1.0\n",
      "[-0.45604086 -0.02564911] -> -1.0\n",
      "[-0.4821932  -0.02615234] -> -1.0\n",
      "[-0.5086553  -0.02646208] -> -1.0\n",
      "[-0.53622943 -0.02757412] -> -1.0\n",
      "[-0.56370884 -0.02747941] -> -1.0\n",
      "[-0.5918881  -0.02817931] -> -1.0\n",
      "[-0.6195589  -0.02767072] -> -1.0\n",
      "[-0.64751977 -0.02796092] -> -1.0\n",
      "[-0.6745725  -0.02705277] -> -1.0\n",
      "[-0.6995313  -0.02495878] -> -1.0\n",
      "[-0.723231  -0.0236997] -> -1.0\n",
      "[-0.74552137 -0.02229038] -> -1.0\n",
      "[-0.7672676  -0.02174622] -> -1.0\n",
      "[-0.7883448  -0.02107717] -> -1.0\n",
      "[-0.80863863 -0.02029384] -> -1.0\n",
      "[-0.82704586 -0.01840722] -> -1.0\n",
      "[-0.8434788  -0.01643294] -> -1.0\n",
      "[-0.85886425 -0.01538548] -> -1.0\n",
      "[-0.87213826 -0.013274  ] -> -1.0\n",
      "[-0.88324916 -0.01111092] -> -1.0\n",
      "[-0.8921564  -0.00890726] -> -1.0\n",
      "[-0.89982927 -0.00767284] -> -1.0\n",
      "[-0.9052425  -0.00541321] -> -1.0\n",
      "[-0.908379   -0.00313651] -> -1.0\n",
      "[-0.9102292  -0.00185019] -> -1.0\n",
      "[-9.0978748e-01  4.4171314e-04] -> -1.0\n",
      "[-0.9080552   0.00173229] -> -1.0\n",
      "[-0.90303755  0.00501762] -> -1.0\n",
      "[-0.8967501   0.00628745] -> -1.0\n",
      "[-0.887213   0.0095371] -> -1.0\n",
      "[-0.8744584   0.01275464] -> -1.0\n",
      "[-0.85853195  0.0159264 ] -> -1.0\n",
      "[-0.8414954   0.01703654] -> -1.0\n",
      "[-0.82142     0.02007543] -> -1.0\n",
      "[-0.80039644  0.02102355] -> -1.0\n"
     ]
    }
   ],
   "source": [
    "env.reset()\n",
    "\n",
    "done = False\n",
    "while not done:\n",
    "   env.render()\n",
    "   obs, rew, done, info = env.step(env.action_space.sample())\n",
    "   print(f\"{obs} -> {rew}\")\n",
    "env.close()"
   ]
  },
  {
   "cell_type": "markdown",
   "metadata": {},
   "source": [
    "We can get min and max value of those numbers:"
   ]
  },
  {
   "cell_type": "code",
   "execution_count": 7,
   "metadata": {},
   "outputs": [
    {
     "name": "stdout",
     "output_type": "stream",
     "text": [
      "[-1.2  -0.07]\n",
      "[0.6  0.07]\n"
     ]
    }
   ],
   "source": [
    "print(env.observation_space.low)\n",
    "print(env.observation_space.high)"
   ]
  },
  {
   "cell_type": "markdown",
   "metadata": {},
   "source": [
    "## State Discretization"
   ]
  },
  {
   "cell_type": "code",
   "execution_count": 8,
   "metadata": {},
   "outputs": [],
   "source": [
    "def discretize(x):\n",
    "    return tuple((x/np.array([0.05, 0.004])).astype(int ))"
   ]
  },
  {
   "cell_type": "markdown",
   "metadata": {},
   "source": [
    "Let's also explore other discretization method using bins:"
   ]
  },
  {
   "cell_type": "code",
   "execution_count": 9,
   "metadata": {},
   "outputs": [
    {
     "name": "stdout",
     "output_type": "stream",
     "text": [
      "Sample bins for interval (-5,5) with 10 bins\n",
      " [-5. -4. -3. -2. -1.  0.  1.  2.  3.  4.  5.]\n"
     ]
    }
   ],
   "source": [
    "def create_bins(i, num):\n",
    "    return np.arange(num+1)*(i[1]-i[0])/num+i[0]\n",
    "\n",
    "print(\"Sample bins for interval (-5,5) with 10 bins\\n\",create_bins((-5,5),10))\n",
    "\n",
    "ints = [(-5,5),(-2,2),(-0.5,0.5),(-2,2)] # intervals of values for each parameter\n",
    "nbins = [20,20,10,10] # number of bins for each parameter\n",
    "bins = [create_bins(ints[i],nbins[i]) for i in range(4)]\n",
    "\n",
    "def discretize_bins(x):\n",
    "    return tuple(np.digitize(x[i],bins[i]) for i in range(4))"
   ]
  },
  {
   "cell_type": "markdown",
   "metadata": {},
   "source": [
    "Let's now run a short simulation and observe those discrete environment values."
   ]
  },
  {
   "cell_type": "code",
   "execution_count": 10,
   "metadata": {},
   "outputs": [
    {
     "name": "stdout",
     "output_type": "stream",
     "text": [
      "(-10, 0)\n",
      "(-10, 0)\n",
      "(-10, 0)\n",
      "(-10, 0)\n",
      "(-10, 0)\n",
      "(-10, 0)\n",
      "(-10, 0)\n",
      "(-10, 0)\n",
      "(-10, 0)\n",
      "(-10, 0)\n",
      "(-10, 0)\n",
      "(-10, 0)\n",
      "(-10, 0)\n",
      "(-10, 0)\n",
      "(-10, 0)\n",
      "(-10, 0)\n",
      "(-10, 0)\n",
      "(-10, 0)\n",
      "(-10, -1)\n",
      "(-10, 0)\n",
      "(-10, 0)\n",
      "(-11, 0)\n",
      "(-11, 0)\n",
      "(-11, 0)\n",
      "(-11, 0)\n",
      "(-11, 0)\n",
      "(-11, 0)\n",
      "(-11, 0)\n",
      "(-11, 0)\n",
      "(-11, 0)\n",
      "(-11, 0)\n",
      "(-11, 0)\n",
      "(-11, 0)\n",
      "(-11, 0)\n",
      "(-11, 0)\n",
      "(-11, 0)\n",
      "(-11, 0)\n",
      "(-10, 0)\n",
      "(-10, 1)\n",
      "(-10, 1)\n",
      "(-10, 1)\n",
      "(-10, 1)\n",
      "(-10, 0)\n",
      "(-10, 0)\n",
      "(-10, 1)\n",
      "(-10, 1)\n",
      "(-10, 1)\n",
      "(-10, 1)\n",
      "(-9, 1)\n",
      "(-9, 1)\n",
      "(-9, 0)\n",
      "(-9, 1)\n",
      "(-9, 1)\n",
      "(-9, 1)\n",
      "(-9, 1)\n",
      "(-9, 0)\n",
      "(-9, 0)\n",
      "(-9, 0)\n",
      "(-9, 0)\n",
      "(-9, 0)\n",
      "(-9, 0)\n",
      "(-9, 0)\n",
      "(-9, 0)\n",
      "(-9, -1)\n",
      "(-9, 0)\n",
      "(-9, -1)\n",
      "(-9, -1)\n",
      "(-9, -1)\n",
      "(-10, -1)\n",
      "(-10, -1)\n",
      "(-10, -1)\n",
      "(-10, -1)\n",
      "(-10, -1)\n",
      "(-10, -1)\n",
      "(-10, -1)\n",
      "(-10, -1)\n",
      "(-11, -1)\n",
      "(-11, -2)\n",
      "(-11, -2)\n",
      "(-11, -2)\n",
      "(-11, -2)\n",
      "(-11, -1)\n",
      "(-12, -1)\n",
      "(-12, -1)\n",
      "(-12, -1)\n",
      "(-12, -1)\n",
      "(-12, -1)\n",
      "(-12, -1)\n",
      "(-12, -1)\n",
      "(-12, 0)\n",
      "(-12, 0)\n",
      "(-12, 0)\n",
      "(-12, 0)\n",
      "(-12, 0)\n",
      "(-12, 1)\n",
      "(-12, 1)\n",
      "(-12, 2)\n",
      "(-12, 2)\n",
      "(-12, 2)\n",
      "(-11, 2)\n",
      "(-11, 2)\n",
      "(-11, 2)\n",
      "(-11, 3)\n",
      "(-10, 2)\n",
      "(-10, 2)\n",
      "(-10, 2)\n",
      "(-10, 2)\n",
      "(-10, 2)\n",
      "(-9, 2)\n",
      "(-9, 2)\n",
      "(-9, 2)\n",
      "(-9, 2)\n",
      "(-9, 2)\n",
      "(-8, 2)\n",
      "(-8, 2)\n",
      "(-8, 1)\n",
      "(-8, 1)\n",
      "(-8, 1)\n",
      "(-8, 1)\n",
      "(-8, 1)\n",
      "(-8, 0)\n",
      "(-8, 0)\n",
      "(-8, 0)\n",
      "(-8, 0)\n",
      "(-8, 0)\n",
      "(-8, 0)\n",
      "(-8, -1)\n",
      "(-8, 0)\n",
      "(-8, -1)\n",
      "(-8, -1)\n",
      "(-8, -1)\n",
      "(-8, -1)\n",
      "(-8, -1)\n",
      "(-9, -1)\n",
      "(-9, -1)\n",
      "(-9, -2)\n",
      "(-9, -2)\n",
      "(-9, -2)\n",
      "(-10, -2)\n",
      "(-10, -2)\n",
      "(-10, -2)\n",
      "(-10, -3)\n",
      "(-10, -2)\n",
      "(-11, -2)\n",
      "(-11, -2)\n",
      "(-11, -2)\n",
      "(-11, -1)\n",
      "(-11, -2)\n",
      "(-12, -1)\n",
      "(-12, -1)\n",
      "(-12, -1)\n",
      "(-12, -1)\n",
      "(-12, 0)\n",
      "(-12, 0)\n",
      "(-12, 0)\n",
      "(-12, 0)\n",
      "(-12, 0)\n",
      "(-12, 0)\n",
      "(-12, 0)\n",
      "(-12, 0)\n",
      "(-12, 0)\n",
      "(-12, 0)\n",
      "(-12, 0)\n",
      "(-12, 0)\n",
      "(-12, 0)\n",
      "(-12, 0)\n",
      "(-11, 0)\n",
      "(-11, 1)\n",
      "(-11, 1)\n",
      "(-11, 1)\n",
      "(-11, 1)\n",
      "(-11, 1)\n",
      "(-11, 1)\n",
      "(-11, 1)\n",
      "(-10, 1)\n",
      "(-10, 1)\n",
      "(-10, 1)\n",
      "(-10, 1)\n",
      "(-10, 1)\n",
      "(-10, 1)\n",
      "(-10, 1)\n",
      "(-10, 2)\n",
      "(-9, 1)\n",
      "(-9, 1)\n",
      "(-9, 1)\n",
      "(-9, 1)\n",
      "(-9, 0)\n",
      "(-9, 0)\n",
      "(-9, 0)\n",
      "(-9, 0)\n",
      "(-9, 0)\n",
      "(-9, 0)\n",
      "(-9, 0)\n",
      "(-9, 0)\n",
      "(-9, 0)\n",
      "(-9, 0)\n",
      "(-9, 0)\n",
      "(-9, 0)\n",
      "(-9, 0)\n",
      "(-9, -1)\n"
     ]
    }
   ],
   "source": [
    "env.reset()\n",
    "\n",
    "done = False\n",
    "while not done:\n",
    "   env.render()\n",
    "   obs, rew, done, info = env.step(env.action_space.sample())\n",
    "   #print(discretize_bins(obs))\n",
    "   print(discretize(obs))\n",
    "env.close()"
   ]
  },
  {
   "cell_type": "markdown",
   "metadata": {},
   "source": [
    "## Q-Table Structure"
   ]
  },
  {
   "cell_type": "code",
   "execution_count": 45,
   "metadata": {},
   "outputs": [],
   "source": [
    "Q = {}\n",
    "actions = (0, 1, 2) \n",
    "# 0 -> Accelerate to the left\n",
    "# 1 -> Do not accelerate\n",
    "# 2 -> Accelerate to the right\n",
    "\n",
    "def qvalues(state):\n",
    "    return [Q.get((state, a), 0) for a in actions]"
   ]
  },
  {
   "cell_type": "markdown",
   "metadata": {},
   "source": [
    "## Let's Start Q-Learning!"
   ]
  },
  {
   "cell_type": "code",
   "execution_count": 44,
   "metadata": {},
   "outputs": [],
   "source": [
    "epochs = 40000\n",
    "\n",
    "alpha = 1       # learning rate\n",
    "gamma = 0.95    # discount factor\n",
    "epsilon = 0.1     # exploitation factor\n",
    "\n",
    "epsilon_inc = 1 / 10000      # reate of increasing for epsilon\n",
    "alpha_dec = 1 / 20000       # rate of decreasing for alpha"
   ]
  },
  {
   "cell_type": "code",
   "execution_count": 46,
   "metadata": {},
   "outputs": [
    {
     "name": "stdout",
     "output_type": "stream",
     "text": [
      "0: -200.0, alpha=1, epsilon=0.1\n",
      "500: -200.0, alpha=0.9750000000000028, epsilon=0.14999999999999797\n",
      "1000: -200.0, alpha=0.9500000000000055, epsilon=0.19999999999999246\n",
      "1500: -200.0, alpha=0.9250000000000083, epsilon=0.24999999999998695\n",
      "2000: -200.0, alpha=0.900000000000011, epsilon=0.29999999999998145\n",
      "2500: -200.0, alpha=0.8750000000000138, epsilon=0.34999999999997594\n",
      "3000: -200.0, alpha=0.8500000000000165, epsilon=0.39999999999997043\n",
      "3500: -200.0, alpha=0.8250000000000193, epsilon=0.44999999999996493\n",
      "4000: -200.0, alpha=0.800000000000022, epsilon=0.4999999999999594\n",
      "4500: -200.0, alpha=0.7750000000000248, epsilon=0.549999999999954\n",
      "5000: -200.0, alpha=0.7500000000000275, epsilon=0.5999999999999485\n",
      "5500: -200.0, alpha=0.7250000000000303, epsilon=0.649999999999943\n",
      "6000: -200.0, alpha=0.700000000000033, epsilon=0.6999999999999375\n",
      "6500: -200.0, alpha=0.6750000000000358, epsilon=0.7499999999999319\n",
      "7000: -200.0, alpha=0.6500000000000385, epsilon=0.7999999999999264\n",
      "7500: -200.0, alpha=0.6250000000000413, epsilon=0.8499999999999209\n",
      "8000: -200.0, alpha=0.600000000000044, epsilon=0.8999999999999154\n",
      "8500: -200.0, alpha=0.5750000000000468, epsilon=0.9000999999999154\n",
      "9000: -200.0, alpha=0.5500000000000496, epsilon=0.9000999999999154\n",
      "9500: -200.0, alpha=0.5250000000000523, epsilon=0.9000999999999154\n",
      "10000: -200.0, alpha=0.5000000000000551, epsilon=0.9000999999999154\n",
      "10500: -200.0, alpha=0.4750000000000578, epsilon=0.9000999999999154\n",
      "11000: -200.0, alpha=0.4500000000000606, epsilon=0.9000999999999154\n",
      "11500: -199.978, alpha=0.4250000000000633, epsilon=0.9000999999999154\n",
      "12000: -199.524, alpha=0.4000000000000661, epsilon=0.9000999999999154\n",
      "12500: -198.7, alpha=0.37500000000006883, epsilon=0.9000999999999154\n",
      "13000: -194.382, alpha=0.3500000000000716, epsilon=0.9000999999999154\n",
      "13500: -187.972, alpha=0.32500000000007434, epsilon=0.9000999999999154\n",
      "14000: -190.17, alpha=0.3000000000000771, epsilon=0.9000999999999154\n",
      "14500: -185.0, alpha=0.27500000000007985, epsilon=0.9000999999999154\n",
      "15000: -176.776, alpha=0.2500000000000826, epsilon=0.9000999999999154\n",
      "15500: -182.928, alpha=0.22500000000008535, epsilon=0.9000999999999154\n",
      "16000: -178.21, alpha=0.2000000000000881, epsilon=0.9000999999999154\n",
      "16500: -170.602, alpha=0.1999500000000881, epsilon=0.9000999999999154\n",
      "17000: -167.13, alpha=0.1999500000000881, epsilon=0.9000999999999154\n",
      "17500: -176.09, alpha=0.1999500000000881, epsilon=0.9000999999999154\n",
      "18000: -172.48, alpha=0.1999500000000881, epsilon=0.9000999999999154\n",
      "18500: -175.044, alpha=0.1999500000000881, epsilon=0.9000999999999154\n",
      "19000: -170.332, alpha=0.1999500000000881, epsilon=0.9000999999999154\n",
      "19500: -177.126, alpha=0.1999500000000881, epsilon=0.9000999999999154\n",
      "20000: -174.13, alpha=0.1999500000000881, epsilon=0.9000999999999154\n",
      "20500: -169.018, alpha=0.1999500000000881, epsilon=0.9000999999999154\n",
      "21000: -177.512, alpha=0.1999500000000881, epsilon=0.9000999999999154\n",
      "21500: -172.794, alpha=0.1999500000000881, epsilon=0.9000999999999154\n",
      "22000: -171.766, alpha=0.1999500000000881, epsilon=0.9000999999999154\n",
      "22500: -174.342, alpha=0.1999500000000881, epsilon=0.9000999999999154\n",
      "23000: -174.756, alpha=0.1999500000000881, epsilon=0.9000999999999154\n",
      "23500: -169.87, alpha=0.1999500000000881, epsilon=0.9000999999999154\n",
      "24000: -176.53, alpha=0.1999500000000881, epsilon=0.9000999999999154\n",
      "24500: -173.378, alpha=0.1999500000000881, epsilon=0.9000999999999154\n",
      "25000: -174.33, alpha=0.1999500000000881, epsilon=0.9000999999999154\n",
      "25500: -178.398, alpha=0.1999500000000881, epsilon=0.9000999999999154\n",
      "26000: -173.564, alpha=0.1999500000000881, epsilon=0.9000999999999154\n",
      "26500: -177.41, alpha=0.1999500000000881, epsilon=0.9000999999999154\n",
      "27000: -177.262, alpha=0.1999500000000881, epsilon=0.9000999999999154\n",
      "27500: -175.058, alpha=0.1999500000000881, epsilon=0.9000999999999154\n",
      "28000: -174.028, alpha=0.1999500000000881, epsilon=0.9000999999999154\n",
      "28500: -176.174, alpha=0.1999500000000881, epsilon=0.9000999999999154\n",
      "29000: -175.538, alpha=0.1999500000000881, epsilon=0.9000999999999154\n",
      "29500: -175.214, alpha=0.1999500000000881, epsilon=0.9000999999999154\n",
      "30000: -176.62, alpha=0.1999500000000881, epsilon=0.9000999999999154\n",
      "30500: -174.782, alpha=0.1999500000000881, epsilon=0.9000999999999154\n",
      "31000: -174.834, alpha=0.1999500000000881, epsilon=0.9000999999999154\n",
      "31500: -175.97, alpha=0.1999500000000881, epsilon=0.9000999999999154\n",
      "32000: -178.436, alpha=0.1999500000000881, epsilon=0.9000999999999154\n",
      "32500: -174.22, alpha=0.1999500000000881, epsilon=0.9000999999999154\n",
      "33000: -171.512, alpha=0.1999500000000881, epsilon=0.9000999999999154\n",
      "33500: -177.554, alpha=0.1999500000000881, epsilon=0.9000999999999154\n",
      "34000: -173.896, alpha=0.1999500000000881, epsilon=0.9000999999999154\n",
      "34500: -170.804, alpha=0.1999500000000881, epsilon=0.9000999999999154\n",
      "35000: -175.668, alpha=0.1999500000000881, epsilon=0.9000999999999154\n",
      "35500: -183.004, alpha=0.1999500000000881, epsilon=0.9000999999999154\n",
      "36000: -175.198, alpha=0.1999500000000881, epsilon=0.9000999999999154\n",
      "36500: -176.222, alpha=0.1999500000000881, epsilon=0.9000999999999154\n",
      "37000: -172.404, alpha=0.1999500000000881, epsilon=0.9000999999999154\n",
      "37500: -174.08, alpha=0.1999500000000881, epsilon=0.9000999999999154\n",
      "38000: -174.066, alpha=0.1999500000000881, epsilon=0.9000999999999154\n",
      "38500: -176.414, alpha=0.1999500000000881, epsilon=0.9000999999999154\n",
      "39000: -177.042, alpha=0.1999500000000881, epsilon=0.9000999999999154\n",
      "39500: -173.228, alpha=0.1999500000000881, epsilon=0.9000999999999154\n"
     ]
    }
   ],
   "source": [
    "def probs(v,eps=1e-4):\n",
    "    v = v-v.min()+eps\n",
    "    v = v/v.sum()\n",
    "    return v\n",
    "\n",
    "Qmax = -200\n",
    "Qbest = Q\n",
    "cum_rewards = []\n",
    "rewards = []\n",
    "for epoch in range(epochs):\n",
    "    obs = env.reset()\n",
    "    done = False\n",
    "    cum_reward=0\n",
    "    # == do the simulation ==\n",
    "    while not done:\n",
    "        s = discretize(obs)\n",
    "        if random.random()<epsilon:\n",
    "            # exploitation - chose the action according to Q-Table probabilities\n",
    "            v = probs(np.array(qvalues(s)))\n",
    "            a = actions[np.argmax(v)]\n",
    "        else:\n",
    "            # exploration - randomly chose the action\n",
    "            a = np.random.randint(env.action_space.n)\n",
    "\n",
    "        obs, rew, done, info = env.step(a)\n",
    "\n",
    "        cum_reward += rew\n",
    "\n",
    "        ns = discretize(obs)\n",
    "        Q[(s,a)] = (1 - alpha) * Q.get((s,a),0) + alpha * (rew + gamma * max(qvalues(ns)))\n",
    "        \n",
    "    cum_rewards.append(cum_reward)\n",
    "    rewards.append(cum_reward)\n",
    "    # == Periodically print results and calculate average reward ==\n",
    "    if epoch%500==0:\n",
    "        print(f\"{epoch}: {np.average(cum_rewards)}, alpha={alpha}, epsilon={epsilon}\")\n",
    "\n",
    "        if np.average(cum_rewards) > Qmax:\n",
    "            Qmax = np.average(cum_rewards)\n",
    "            Qbest = dict(Q)\n",
    "        Q = dict(Qbest)\n",
    "        cum_rewards=[]\n",
    "\n",
    "    # increase epsilon to ceratin limit, this way we start with more exploitation\n",
    "    if epsilon < 0.9:\n",
    "        epsilon += epsilon_inc\n",
    "\n",
    "    # decrease learning rate, so we adjust Q table less with more iterations\n",
    "    if alpha > 0.2:\n",
    "        alpha -= alpha_dec"
   ]
  },
  {
   "cell_type": "markdown",
   "metadata": {},
   "source": [
    "## Plotting Training Progress"
   ]
  },
  {
   "cell_type": "code",
   "execution_count": 47,
   "metadata": {},
   "outputs": [
    {
     "name": "stdout",
     "output_type": "stream",
     "text": [
      "2129360929856\n",
      "2129360951680\n"
     ]
    },
    {
     "data": {
      "text/plain": [
       "[<matplotlib.lines.Line2D at 0x1efc076dbe0>]"
      ]
     },
     "execution_count": 47,
     "metadata": {},
     "output_type": "execute_result"
    },
    {
     "data": {
      "image/png": "[encoded data removed]",
      "text/plain": [
       "<Figure size 432x288 with 1 Axes>"
      ]
     },
     "metadata": {
      "needs_background": "light"
     },
     "output_type": "display_data"
    }
   ],
   "source": [
    "print(id(Qbest))\n",
    "print(id(Q))\n",
    "\n",
    "plt.plot(rewards)"
   ]
  },
  {
   "cell_type": "markdown",
   "metadata": {},
   "source": [
    "From this graph, it is not possible to tell anything, because due to the nature of stochastic training process the length of training sessions varies greatly. To make more sense of this graph, we can calculate **running average** over series of experiments, let's say 100. This can be done conveniently using `np.convolve`:"
   ]
  },
  {
   "cell_type": "code",
   "execution_count": 48,
   "metadata": {},
   "outputs": [
    {
     "data": {
      "text/plain": [
       "[<matplotlib.lines.Line2D at 0x1efcb502670>]"
      ]
     },
     "execution_count": 48,
     "metadata": {},
     "output_type": "execute_result"
    },
    {
     "data": {
      "image/png": "[encoded data removed]",
      "text/plain": [
       "<Figure size 432x288 with 1 Axes>"
      ]
     },
     "metadata": {
      "needs_background": "light"
     },
     "output_type": "display_data"
    }
   ],
   "source": [
    "def running_average(x,window):\n",
    "    return np.convolve(x,np.ones(window)/window,mode='valid')\n",
    "\n",
    "plt.plot(running_average(rewards,100))"
   ]
  },
  {
   "cell_type": "markdown",
   "metadata": {},
   "source": [
    "## Varying Hyperparameters and Seeing the Result in Action\n",
    "\n",
    "Now it would be interesting to actually see how the trained model behaves. Let's run the simulation, and we will be following the same action selection strategy as during training: sampling according to the probability distribution in Q-Table: "
   ]
  },
  {
   "cell_type": "code",
   "execution_count": 50,
   "metadata": {},
   "outputs": [],
   "source": [
    "obs = env.reset()\n",
    "done = False\n",
    "while not done:\n",
    "   s = discretize(obs)\n",
    "   env.render()\n",
    "   v = probs(np.array(qvalues(s)))\n",
    "   a = random.choices(actions,weights=v)[0]\n",
    "   obs,_,done,_ = env.step(a)\n",
    "env.close()"
   ]
  },
  {
   "cell_type": "markdown",
   "metadata": {},
   "source": [
    "In this case we always select the case with highest qtable value:"
   ]
  },
  {
   "cell_type": "code",
   "execution_count": 52,
   "metadata": {},
   "outputs": [],
   "source": [
    "obs = env.reset()\n",
    "done = False\n",
    "while not done:\n",
    "   s = discretize(obs)\n",
    "   env.render()\n",
    "   v = probs(np.array(qvalues(s)))\n",
    "   v_max = np.argmax(v)\n",
    "   a = actions[v_max]\n",
    "   obs,_,done,_ = env.step(a)\n",
    "env.close()"
   ]
  },
  {
   "cell_type": "markdown",
   "metadata": {},
   "source": [
    "\n",
    "## Saving result to an animated GIF\n",
    "\n",
    "If you want to impress your friends, you may want to send them the animated GIF picture of the balancing pole. To do this, we can invoke `env.render` to produce an image frame, and then save those to animated GIF using PIL library:"
   ]
  },
  {
   "cell_type": "code",
   "execution_count": 25,
   "metadata": {},
   "outputs": [
    {
     "name": "stdout",
     "output_type": "stream",
     "text": [
      "152\n"
     ]
    }
   ],
   "source": [
    "from PIL import Image\n",
    "obs = env.reset()\n",
    "done = False\n",
    "i=0\n",
    "ims = []\n",
    "while not done:\n",
    "   s = discretize(obs)\n",
    "   img=env.render(mode='rgb_array')\n",
    "   ims.append(Image.fromarray(img))\n",
    "   v = probs(np.array([Qbest.get((s,a),0) for a in actions]))\n",
    "   a = random.choices(actions,weights=v)[0]\n",
    "   obs,_,done,_ = env.step(a)\n",
    "   i+=1\n",
    "env.close()\n",
    "ims[0].save('images/mountain_car.gif',save_all=True,append_images=ims[1::2],loop=0,duration=5)\n",
    "print(i)"
   ]
  }
 ],
 "metadata": {
  "interpreter": {
   "hash": "3de6c233c2b6517ff24b667833eb0ffa74fcba4af1a9cd9fcd9c6dbe754c2f5a"
  },
  "kernelspec": {
   "display_name": "Python 3.9.6 64-bit",
   "name": "python3"
  },
  "language_info": {
   "codemirror_mode": {
    "name": "ipython",
    "version": 3
   },
   "file_extension": ".py",
   "mimetype": "text/x-python",
   "name": "python",
   "nbconvert_exporter": "python",
   "pygments_lexer": "ipython3",
   "version": "3.9.7"
  },
  "orig_nbformat": 4
 },
 "nbformat": 4,
 "nbformat_minor": 2
}
