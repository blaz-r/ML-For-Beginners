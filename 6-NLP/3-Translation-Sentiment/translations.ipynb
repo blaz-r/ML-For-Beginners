{
 "cells": [
  {
   "cell_type": "code",
   "execution_count": 1,
   "source": [
    "from textblob import TextBlob\r\n",
    "\r\n",
    "blob = TextBlob(\r\n",
    "    \"It is a truth universally acknowledged, that a single man in possession of a good fortune, must be in want of a wife!\"\r\n",
    ")\r\n",
    "print(blob.translate(to=\"sl\"))"
   ],
   "outputs": [
    {
     "output_type": "stream",
     "name": "stdout",
     "text": [
      "Splošno priznana resnica je, da mora samski moški, ki ima bogastvo, pomanjkati ženo!\n"
     ]
    }
   ],
   "metadata": {}
  },
  {
   "cell_type": "code",
   "execution_count": 2,
   "source": [
    "quote1 = \"\"\"It is a truth universally acknowledged, that a single man in possession of a good fortune, must be in want of a wife.\"\"\"\r\n",
    "\r\n",
    "quote2 = \"\"\"Darcy, as well as Elizabeth, really loved them; and they were both ever sensible of the warmest gratitude towards the persons who, by bringing her into Derbyshire, had been the means of uniting them.\"\"\"\r\n",
    "\r\n",
    "sentiment1 = TextBlob(quote1).sentiment\r\n",
    "sentiment2 = TextBlob(quote2).sentiment\r\n",
    "\r\n",
    "print(f\"{quote1} has a sentiment of {sentiment1}\")\r\n",
    "print(f\"{quote2} has a sentiment of {sentiment2}\")"
   ],
   "outputs": [
    {
     "output_type": "stream",
     "name": "stdout",
     "text": [
      "It is a truth universally acknowledged, that a single man in possession of a good fortune, must be in want of a wife. has a sentiment of Sentiment(polarity=0.20952380952380953, subjectivity=0.27142857142857146)\n",
      "Darcy, as well as Elizabeth, really loved them; and they were both ever sensible of the warmest gratitude towards the persons who, by bringing her into Derbyshire, had been the means of uniting them. has a sentiment of Sentiment(polarity=0.7, subjectivity=0.8)\n"
     ]
    }
   ],
   "metadata": {}
  },
  {
   "cell_type": "code",
   "execution_count": 32,
   "source": [
    "positive = []\r\n",
    "negative = []\r\n",
    "\r\n",
    "with open(\"data/pride_and_prejudice.txt\", 'r', encoding = 'utf-8') as s:\r\n",
    "    lines = s.readlines()\r\n",
    "    # remove Chapter headlines\r\n",
    "    lines = [line for line in lines if \"Chapter\" not in line]\r\n",
    "\r\n",
    "    for sentence in TextBlob(\" \".join(lines)).sentences:\r\n",
    "        polarity = sentence.sentiment.polarity\r\n",
    "        if polarity == 1:\r\n",
    "            positive.append(sentence)\r\n",
    "        elif polarity == -1:\r\n",
    "            negative.append(sentence)"
   ],
   "outputs": [],
   "metadata": {}
  },
  {
   "cell_type": "code",
   "execution_count": 34,
   "source": [
    "print(f\"Positive: {len(positive)}\")\r\n",
    "for sentence in positive:\r\n",
    "    print(sentence.replace('\\n', '').strip())\r\n",
    "\r\n",
    "print(\"\\n\")\r\n",
    "print(f\"Negative: {len(negative)}\")\r\n",
    "for sentence in negative:\r\n",
    "    print(sentence.replace('\\n', '').strip())"
   ],
   "outputs": [
    {
     "output_type": "stream",
     "name": "stdout",
     "text": [
      "Positive: 27\n",
      "“What an excellent father you have, girls,” said she, when the door was shut.\n",
      "He walked here, and he walked there, fancying himself so very great!\n",
      "Mr. Darcy replied with great intrepidity,  “Miss Elizabeth Bennet.”  “Miss Elizabeth Bennet!” repeated Miss Bingley.\n",
      "“Your examination of Mr. Darcy is over, I presume,” said Miss Bingley; “and pray what is the result?”  “I am perfectly convinced by it that Mr. Darcy has no defect.\n",
      "Family pride, and /filial/ pride—for he is very proud of what his father was—have done this.\n",
      "/That/ would be the greatest misfortune of all!\n",
      "How wonderfully these sort of things occur!\n",
      "She owed her greatest relief to her friend Miss Lucas, who often joined them, and good-naturedly engaged Mr. Collins’s conversation to herself.\n",
      "The improvement of spending a night in London was added in time, and the plan became perfect as plan could be.\n",
      "She is a very great favourite with some ladies of my acquaintance, Mrs. Hurst and Miss Bingley.\n",
      "Perhaps this concealment, this disguise was beneath me; it is done, however, and it was done for the best.\n",
      "I have the greatest dislike in the world to that sort of thing.\n",
      "Charlotte is an excellent manager, I dare say.\n",
      "“His father was an excellent man,” said Mrs. Gardiner.\n",
      "“He is perfectly well behaved, polite, and unassuming,” said her uncle.\n",
      "On reaching the house, they were shown through the hall into the saloon, whose northern aspect rendered it delightful for summer.\n",
      "Our distress, my dear Lizzy, is very great.\n",
      "And tell my dear Lydia not to give any directions about her clothes till she has seen me, for she does not know which are the best warehouses.\n",
      "We acted with the best intentions.”  “Could Colonel Forster repeat the particulars of Lydia’s note to his wife?”  “He brought it with him for us to see.”  Jane then took it from her pocket-book, and gave it to Elizabeth.\n",
      "“This is delightful indeed!\n",
      "I am so happy!\n",
      "But, however, he is very welcome to come to Netherfield, if he likes it.\n",
      "Happy shall I be, when his stay at Netherfield is over!”  “I wish I could say anything to comfort you,” replied Elizabeth; “but it is wholly out of my power.\n",
      "my dear, dear Jane, I am so happy!\n",
      "If I could but see you as happy!\n",
      "He is perfectly amiable.\n",
      "Your idea of the ponies is delightful.\n",
      "\n",
      "\n",
      "Negative: 14\n",
      "shocking!” cried Miss Bingley.\n",
      "Everybody is disgusted with his pride.\n",
      "What can have induced him to behave so cruelly?”  “A thorough, determined dislike of me—a dislike which I cannot but attribute in some measure to jealousy.\n",
      "To find a man agreeable whom one is determined to hate!\n",
      "“I should like to know how he behaves among strangers.”  “You shall hear then—but prepare yourself for something very dreadful.\n",
      "The pause was to Elizabeth’s feelings dreadful.\n",
      "“Wickham so very bad!\n",
      "The separation between her and her family was rather noisy than pathetic.\n",
      "It would be dreadful!\n",
      "can she be ignorant of what you and Jane seem so well to understand?”  “Oh, yes!—that, that is the worst of all.\n",
      "“She is so fond of Mrs. Forster,” said she, “it will be quite shocking to send her away!\n",
      "It was all over before I arrived; so my curiosity was not so dreadfully racked as /yours/ seems to have been.\n",
      "He called it, therefore, his duty to step forward, and endeavour to remedy an evil which had been brought on by himself.\n",
      "You were disgusted with the women who were always speaking, and looking, and thinking for /your/ approbation alone.\n"
     ]
    }
   ],
   "metadata": {}
  }
 ],
 "metadata": {
  "orig_nbformat": 4,
  "language_info": {
   "name": "python",
   "version": "3.9.7",
   "mimetype": "text/x-python",
   "codemirror_mode": {
    "name": "ipython",
    "version": 3
   },
   "pygments_lexer": "ipython3",
   "nbconvert_exporter": "python",
   "file_extension": ".py"
  },
  "kernelspec": {
   "name": "python3",
   "display_name": "Python 3.9.7 64-bit"
  },
  "interpreter": {
   "hash": "3de6c233c2b6517ff24b667833eb0ffa74fcba4af1a9cd9fcd9c6dbe754c2f5a"
  }
 },
 "nbformat": 4,
 "nbformat_minor": 2
}