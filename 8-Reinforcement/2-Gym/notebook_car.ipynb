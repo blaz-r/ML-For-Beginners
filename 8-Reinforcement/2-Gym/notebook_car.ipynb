{
 "cells": [
  {
   "cell_type": "markdown",
   "metadata": {},
   "source": [
    "## CartPole Skating\n",
    "\n",
    "> **Problem**: If Peter wants to escape from the wolf, he needs to be able to move faster than him. We will see how Peter can learn to skate, in particular, to keep balance, using Q-Learning.\n",
    "\n",
    "First, let's install the gym and import required libraries:"
   ]
  },
  {
   "cell_type": "code",
   "execution_count": 1,
   "metadata": {},
   "outputs": [],
   "source": [
    "import gym\n",
    "import matplotlib.pyplot as plt\n",
    "import numpy as np\n",
    "import random"
   ]
  },
  {
   "cell_type": "markdown",
   "metadata": {},
   "source": [
    "## Create a cartpole environment"
   ]
  },
  {
   "cell_type": "code",
   "execution_count": 2,
   "metadata": {},
   "outputs": [
    {
     "name": "stdout",
     "output_type": "stream",
     "text": [
      "Discrete(3)\n",
      "Box([-1.2  -0.07], [0.6  0.07], (2,), float32)\n",
      "0\n"
     ]
    }
   ],
   "source": [
    "env = gym.make(\"MountainCar-v0\")\n",
    "\n",
    "print(env.action_space)\n",
    "print(env.observation_space)\n",
    "print(env.action_space.sample())"
   ]
  },
  {
   "cell_type": "markdown",
   "metadata": {},
   "source": [
    "To see how the environment works, let's run a short simulation for 100 steps."
   ]
  },
  {
   "cell_type": "code",
   "execution_count": 3,
   "metadata": {},
   "outputs": [],
   "source": [
    "env.reset()\n",
    "\n",
    "for i in range(1000):\n",
    "    env.render()\n",
    "    env.step(env.action_space.sample())\n",
    "env.close()"
   ]
  },
  {
   "cell_type": "markdown",
   "metadata": {},
   "source": [
    "During simulation, we need to get observations in order to decide how to act. In fact, `step` function returns us back current observations, reward function, and the `done` flag that indicates whether it makes sense to continue the simulation or not:"
   ]
  },
  {
   "cell_type": "code",
   "execution_count": 4,
   "metadata": {},
   "outputs": [
    {
     "name": "stdout",
     "output_type": "stream",
     "text": [
      "[-0.47103676 -0.00140297] -> -1.0\n",
      "[-0.4718323  -0.00079556] -> -1.0\n",
      "[-4.7201455e-01 -1.8224491e-04] -> -1.0\n",
      "[-4.7158214e-01  4.3241581e-04] -> -1.0\n",
      "[-0.47053826  0.00104387] -> -1.0\n",
      "[-4.7089067e-01 -3.5240283e-04] -> -1.0\n",
      "[-4.7063676e-01  2.5393168e-04] -> -1.0\n",
      "[-0.46977836  0.00085839] -> -1.0\n",
      "[-0.47032186 -0.00054352] -> -1.0\n",
      "[-0.47226328 -0.00194139] -> -1.0\n",
      "[-0.47458816 -0.00232489] -> -1.0\n",
      "[-0.4762793  -0.00169115] -> -1.0\n",
      "[-0.47832415 -0.00204485] -> -1.0\n",
      "[-0.4797075  -0.00138337] -> -1.0\n",
      "[-0.48141912 -0.0017116 ] -> -1.0\n",
      "[-0.48244622 -0.00102711] -> -1.0\n",
      "[-0.4847812  -0.00233497] -> -1.0\n",
      "[-0.48740664 -0.00262544] -> -1.0\n",
      "[-0.491303   -0.00389635] -> -1.0\n",
      "[-0.49444118 -0.00313819] -> -1.0\n",
      "[-0.49879777 -0.00435659] -> -1.0\n",
      "[-0.5033402  -0.00454243] -> -1.0\n",
      "[-0.5070345  -0.00369427] -> -1.0\n",
      "[-0.51085293 -0.00381845] -> -1.0\n",
      "[-0.515767   -0.00491403] -> -1.0\n",
      "[-0.5197397  -0.00397276] -> -1.0\n",
      "[-0.52274144 -0.0030017 ] -> -1.0\n",
      "[-0.52574956 -0.00300813] -> -1.0\n",
      "[-0.52874154 -0.002992  ] -> -1.0\n",
      "[-0.53169495 -0.00295343] -> -1.0\n",
      "[-0.5345877  -0.00289272] -> -1.0\n",
      "[-0.537398   -0.00281031] -> -1.0\n",
      "[-0.5391049  -0.00170685] -> -1.0\n",
      "[-0.5406954 -0.0015906] -> -1.0\n",
      "[-0.5421579  -0.00146243] -> -1.0\n",
      "[-5.4248118e-01 -3.2330563e-04] -> -1.0\n",
      "[-0.54166293  0.00081824] -> -1.0\n",
      "[-0.53970927  0.00195365] -> -1.0\n",
      "[-0.53763485  0.00207443] -> -1.0\n",
      "[-0.53545517  0.00217967] -> -1.0\n",
      "[-0.5331866   0.00226858] -> -1.0\n",
      "[-0.52984613  0.00334048] -> -1.0\n",
      "[-0.5254588   0.00438733] -> -1.0\n",
      "[-0.5200575   0.00540128] -> -1.0\n",
      "[-0.5136828   0.00637472] -> -1.0\n",
      "[-0.50638247  0.00730036] -> -1.0\n",
      "[-0.49821115  0.0081713 ] -> -1.0\n",
      "[-0.49123007  0.00698107] -> -1.0\n",
      "[-0.4854914   0.00573869] -> -1.0\n",
      "[-0.47903788  0.00645351] -> -1.0\n",
      "[-0.4729176   0.00612029] -> -1.0\n",
      "[-0.46617594  0.00674165] -> -1.0\n",
      "[-0.45986283  0.0063131 ] -> -1.0\n",
      "[-0.45502484  0.00483799] -> -1.0\n",
      "[-0.45169753  0.00332731] -> -1.0\n",
      "[-0.44790533  0.00379222] -> -1.0\n",
      "[-0.44567594  0.00222939] -> -1.0\n",
      "[-0.44502565  0.00065027] -> -1.0\n",
      "[-4.4495925e-01  6.6415792e-05] -> -1.0\n",
      "[-0.44447717  0.00048208] -> -1.0\n",
      "[-0.44358295  0.00089422] -> -1.0\n",
      "[-4.4328311e-01  2.9984803e-04] -> -1.0\n",
      "[-0.4445798  -0.00129671] -> -1.0\n",
      "[-0.4464636  -0.00188382] -> -1.0\n",
      "[-0.4499208  -0.00345718] -> -1.0\n",
      "[-0.45292607 -0.00300528] -> -1.0\n",
      "[-0.45645744 -0.00353136] -> -1.0\n",
      "[-0.46148896 -0.00503152] -> -1.0\n",
      "[-0.46698362 -0.00549465] -> -1.0\n",
      "[-0.47190085 -0.00491723] -> -1.0\n",
      "[-0.47720426 -0.00530341] -> -1.0\n",
      "[-0.48285452 -0.00565025] -> -1.0\n",
      "[-0.48780957 -0.00495507] -> -1.0\n",
      "[-0.49203253 -0.00422297] -> -1.0\n",
      "[-0.4974919  -0.00545937] -> -1.0\n",
      "[-0.5031469  -0.00565497] -> -1.0\n",
      "[-0.5099551  -0.00680826] -> -1.0\n",
      "[-0.5178657  -0.00791056] -> -1.0\n",
      "[-0.52581924 -0.00795355] -> -1.0\n",
      "[-0.53275615 -0.0069369 ] -> -1.0\n",
      "[-0.5386244  -0.00586823] -> -1.0\n",
      "[-0.54437995 -0.00575558] -> -1.0\n",
      "[-0.54997975 -0.00559982] -> -1.0\n",
      "[-0.55538195 -0.00540217] -> -1.0\n",
      "[-0.5615461  -0.00616415] -> -1.0\n",
      "[-0.5664263  -0.00488016] -> -1.0\n",
      "[-0.5719861  -0.00555984] -> -1.0\n",
      "[-0.5771843  -0.00519821] -> -1.0\n",
      "[-0.5809823  -0.00379805] -> -1.0\n",
      "[-0.58435214 -0.00336979] -> -1.0\n",
      "[-0.5872688  -0.00291666] -> -1.0\n",
      "[-0.58971083 -0.00244203] -> -1.0\n",
      "[-0.5906603  -0.00094944] -> -1.0\n",
      "[-5.9111011e-01 -4.4986216e-04] -> -1.0\n",
      "[-0.5920571  -0.00094698] -> -1.0\n",
      "[-5.9149426e-01  5.6285429e-04] -> -1.0\n",
      "[-0.5894257   0.00206856] -> -1.0\n",
      "[-0.5868667   0.00255906] -> -1.0\n",
      "[-0.5828359   0.00403072] -> -1.0\n",
      "[-0.57736325  0.00547266] -> -1.0\n",
      "[-0.5704891   0.00687415] -> -1.0\n",
      "[-0.5642644   0.00622467] -> -1.0\n",
      "[-0.55773556  0.00652891] -> -1.0\n",
      "[-0.549951    0.00778449] -> -1.0\n",
      "[-0.54096913  0.00898192] -> -1.0\n",
      "[-0.53085697  0.01011214] -> -1.0\n",
      "[-0.5206904   0.01016657] -> -1.0\n",
      "[-0.51154566  0.00914476] -> -1.0\n",
      "[-0.50149125  0.01005438] -> -1.0\n",
      "[-0.49260256  0.0088887 ] -> -1.0\n",
      "[-0.484946    0.00765656] -> -1.0\n",
      "[-0.4785787   0.00636731] -> -1.0\n",
      "[-0.473548    0.00503069] -> -1.0\n",
      "[-0.4688913   0.00465672] -> -1.0\n",
      "[-0.46364304  0.00524825] -> -1.0\n",
      "[-0.45984203  0.003801  ] -> -1.0\n",
      "[-0.45751628  0.00232574] -> -1.0\n",
      "[-0.45668295  0.00083336] -> -1.0\n",
      "[-0.45734808 -0.00066515] -> -1.0\n",
      "[-4.5750684e-01 -1.5876048e-04] -> -1.0\n",
      "[-0.45915806 -0.00165121] -> -1.0\n",
      "[-0.46228957 -0.00313151] -> -1.0\n",
      "[-0.4668783  -0.00458874] -> -1.0\n",
      "[-0.4708904  -0.00401209] -> -1.0\n",
      "[-0.47429615 -0.00340576] -> -1.0\n",
      "[-0.47907034 -0.00477418] -> -1.0\n",
      "[-0.4841775  -0.00510716] -> -1.0\n",
      "[-0.4905796  -0.00640213] -> -1.0\n",
      "[-0.498229   -0.00764936] -> -1.0\n",
      "[-0.5050684  -0.00683945] -> -1.0\n",
      "[-0.5110468  -0.00597836] -> -1.0\n",
      "[-0.5161193  -0.00507248] -> -1.0\n",
      "[-0.52224785 -0.00612857] -> -1.0\n",
      "[-0.52738655 -0.0051387 ] -> -1.0\n",
      "[-0.53249687 -0.00511029] -> -1.0\n",
      "[-0.53754044 -0.00504357] -> -1.0\n",
      "[-0.54347944 -0.00593903] -> -1.0\n",
      "[-0.54826945 -0.00479002] -> -1.0\n",
      "[-0.5538746  -0.00560516] -> -1.0\n",
      "[-0.55925304 -0.0053784 ] -> -1.0\n",
      "[-0.5643645 -0.0051115] -> -1.0\n",
      "[-0.568171   -0.00380652] -> -1.0\n",
      "[-0.57164425 -0.00347322] -> -1.0\n",
      "[-0.5757584  -0.00411413] -> -1.0\n",
      "[-0.5784829  -0.00272453] -> -1.0\n",
      "[-0.58179766 -0.00331475] -> -1.0\n",
      "[-0.5836781  -0.00188048] -> -1.0\n",
      "[-0.5851105  -0.00143232] -> -1.0\n",
      "[-5.8508408e-01  2.6407573e-05] -> -1.0\n",
      "[-5.8459914e-01  4.8493670e-04] -> -1.0\n",
      "[-0.58365923  0.00093989] -> -1.0\n",
      "[-5.8327132e-01  3.8791003e-04] -> -1.0\n",
      "[-0.58143824  0.00183307] -> -1.0\n",
      "[-0.5781736   0.00326469] -> -1.0\n",
      "[-0.5755014   0.00267217] -> -1.0\n",
      "[-0.57144153  0.00405987] -> -1.0\n",
      "[-0.56802404  0.00341746] -> -1.0\n",
      "[-0.5632744   0.00474967] -> -1.0\n",
      "[-0.55722785  0.00604653] -> -1.0\n",
      "[-0.55092955  0.00629832] -> -1.0\n",
      "[-0.54442644  0.00650307] -> -1.0\n",
      "[-0.5367673   0.00765918] -> -1.0\n",
      "[-0.52800936  0.00875792] -> -1.0\n",
      "[-0.5202184  0.007791 ] -> -1.0\n",
      "[-0.5134527   0.00676564] -> -1.0\n",
      "[-0.5057632   0.00768956] -> -1.0\n",
      "[-0.4972073   0.00855586] -> -1.0\n",
      "[-0.48884916  0.00835813] -> -1.0\n",
      "[-0.4807512   0.00809798] -> -1.0\n",
      "[-0.4739737  0.0067775] -> -1.0\n",
      "[-0.468567    0.00540669] -> -1.0\n",
      "[-0.46457118  0.00399582] -> -1.0\n",
      "[-0.46001574  0.00455543] -> -1.0\n",
      "[-0.4549343   0.00508144] -> -1.0\n",
      "[-0.44936422  0.00557009] -> -1.0\n",
      "[-0.4443463   0.00501792] -> -1.0\n",
      "[-0.4409172   0.00342911] -> -1.0\n",
      "[-0.43710184  0.00381534] -> -1.0\n",
      "[-0.43292797  0.00417387] -> -1.0\n",
      "[-0.42942578  0.00350219] -> -1.0\n",
      "[-0.4266205   0.00280526] -> -1.0\n",
      "[-0.42453238  0.00208814] -> -1.0\n",
      "[-4.2417637e-01  3.5602757e-04] -> -1.0\n",
      "[-4.2455500e-01 -3.7863347e-04] -> -1.0\n",
      "[-0.42566556 -0.00111058] -> -1.0\n",
      "[-0.42650014 -0.00083456] -> -1.0\n",
      "[-0.42805266 -0.00155254] -> -1.0\n",
      "[-0.43131202 -0.00325937] -> -1.0\n",
      "[-0.43525475 -0.00394271] -> -1.0\n",
      "[-0.4398523  -0.00459756] -> -1.0\n",
      "[-0.44407138 -0.00421907] -> -1.0\n",
      "[-0.44888124 -0.00480988] -> -1.0\n",
      "[-0.45424685 -0.00536558] -> -1.0\n",
      "[-0.45912883 -0.00488198] -> -1.0\n",
      "[-0.4654913  -0.00636249] -> -1.0\n",
      "[-0.4732874 -0.0077961] -> -1.0\n",
      "[-0.4804594 -0.007172 ] -> -1.0\n",
      "[-0.48895404 -0.00849464] -> -1.0\n",
      "[-0.49870807 -0.00975401] -> -1.0\n",
      "[-0.5086486  -0.00994052] -> -1.0\n"
     ]
    }
   ],
   "source": [
    "env.reset()\n",
    "\n",
    "done = False\n",
    "while not done:\n",
    "   env.render()\n",
    "   obs, rew, done, info = env.step(env.action_space.sample())\n",
    "   print(f\"{obs} -> {rew}\")\n",
    "env.close()"
   ]
  },
  {
   "cell_type": "markdown",
   "metadata": {},
   "source": [
    "We can get min and max value of those numbers:"
   ]
  },
  {
   "cell_type": "code",
   "execution_count": 5,
   "metadata": {},
   "outputs": [
    {
     "name": "stdout",
     "output_type": "stream",
     "text": [
      "[-1.2  -0.07]\n",
      "[0.6  0.07]\n"
     ]
    }
   ],
   "source": [
    "print(env.observation_space.low)\n",
    "print(env.observation_space.high)"
   ]
  },
  {
   "cell_type": "markdown",
   "metadata": {},
   "source": [
    "## State Discretization"
   ]
  },
  {
   "cell_type": "code",
   "execution_count": 8,
   "metadata": {},
   "outputs": [],
   "source": [
    "def discretize(x):\n",
    "    return tuple((x/np.array([0.05, 0.004])).astype(int ))"
   ]
  },
  {
   "cell_type": "markdown",
   "metadata": {},
   "source": [
    "Let's also explore other discretization method using bins:"
   ]
  },
  {
   "cell_type": "code",
   "execution_count": 9,
   "metadata": {},
   "outputs": [
    {
     "name": "stdout",
     "output_type": "stream",
     "text": [
      "Sample bins for interval (-5,5) with 10 bins\n",
      " [-5. -4. -3. -2. -1.  0.  1.  2.  3.  4.  5.]\n"
     ]
    }
   ],
   "source": [
    "def create_bins(i, num):\n",
    "    return np.arange(num+1)*(i[1]-i[0])/num+i[0]\n",
    "\n",
    "print(\"Sample bins for interval (-5,5) with 10 bins\\n\",create_bins((-5,5),10))\n",
    "\n",
    "ints = [(-5,5),(-2,2),(-0.5,0.5),(-2,2)] # intervals of values for each parameter\n",
    "nbins = [20,20,10,10] # number of bins for each parameter\n",
    "bins = [create_bins(ints[i],nbins[i]) for i in range(4)]\n",
    "\n",
    "def discretize_bins(x):\n",
    "    return tuple(np.digitize(x[i],bins[i]) for i in range(4))"
   ]
  },
  {
   "cell_type": "markdown",
   "metadata": {},
   "source": [
    "Let's now run a short simulation and observe those discrete environment values."
   ]
  },
  {
   "cell_type": "code",
   "execution_count": 11,
   "metadata": {},
   "outputs": [
    {
     "name": "stdout",
     "output_type": "stream",
     "text": [
      "(-11, 0)\n",
      "(-11, 0)\n",
      "(-11, 0)\n",
      "(-11, 0)\n",
      "(-11, 0)\n",
      "(-11, 0)\n",
      "(-11, 0)\n",
      "(-11, 1)\n",
      "(-11, 1)\n",
      "(-11, 1)\n",
      "(-10, 1)\n",
      "(-10, 1)\n",
      "(-10, 1)\n",
      "(-10, 1)\n",
      "(-10, 1)\n",
      "(-10, 2)\n",
      "(-9, 2)\n",
      "(-9, 1)\n",
      "(-9, 2)\n",
      "(-9, 1)\n",
      "(-9, 1)\n",
      "(-9, 1)\n",
      "(-9, 1)\n",
      "(-9, 1)\n",
      "(-8, 1)\n",
      "(-8, 1)\n",
      "(-8, 1)\n",
      "(-8, 1)\n",
      "(-8, 1)\n",
      "(-8, 1)\n",
      "(-8, 1)\n",
      "(-8, 1)\n",
      "(-8, 0)\n",
      "(-8, 0)\n",
      "(-8, 0)\n",
      "(-7, 0)\n",
      "(-7, 0)\n",
      "(-7, 0)\n",
      "(-7, 0)\n",
      "(-8, 0)\n",
      "(-8, 0)\n",
      "(-8, 0)\n",
      "(-8, -1)\n",
      "(-8, -1)\n",
      "(-8, -1)\n",
      "(-8, -2)\n",
      "(-8, -2)\n",
      "(-9, -2)\n",
      "(-9, -2)\n",
      "(-9, -3)\n",
      "(-9, -3)\n",
      "(-10, -3)\n",
      "(-10, -3)\n",
      "(-10, -3)\n",
      "(-10, -3)\n",
      "(-11, -3)\n",
      "(-11, -3)\n",
      "(-11, -3)\n",
      "(-12, -3)\n",
      "(-12, -3)\n",
      "(-12, -3)\n",
      "(-12, -3)\n",
      "(-13, -3)\n",
      "(-13, -3)\n",
      "(-13, -2)\n",
      "(-13, -2)\n",
      "(-13, -2)\n",
      "(-14, -1)\n",
      "(-14, -1)\n",
      "(-14, -1)\n",
      "(-14, 0)\n",
      "(-14, 0)\n",
      "(-14, 0)\n",
      "(-14, 0)\n",
      "(-14, 0)\n",
      "(-14, 1)\n",
      "(-14, 1)\n",
      "(-13, 2)\n",
      "(-13, 2)\n",
      "(-13, 3)\n",
      "(-13, 3)\n",
      "(-12, 3)\n",
      "(-12, 3)\n",
      "(-12, 3)\n",
      "(-11, 4)\n",
      "(-11, 4)\n",
      "(-11, 4)\n",
      "(-10, 4)\n",
      "(-10, 4)\n",
      "(-10, 4)\n",
      "(-9, 4)\n",
      "(-9, 4)\n",
      "(-9, 3)\n",
      "(-8, 3)\n",
      "(-8, 3)\n",
      "(-8, 3)\n",
      "(-7, 3)\n",
      "(-7, 3)\n",
      "(-7, 2)\n",
      "(-7, 2)\n",
      "(-6, 2)\n",
      "(-6, 2)\n",
      "(-6, 1)\n",
      "(-6, 1)\n",
      "(-6, 1)\n",
      "(-6, 0)\n",
      "(-6, 0)\n",
      "(-6, 0)\n",
      "(-6, 0)\n",
      "(-6, 0)\n",
      "(-6, 0)\n",
      "(-6, 0)\n",
      "(-6, -1)\n",
      "(-6, -1)\n",
      "(-6, -2)\n",
      "(-7, -3)\n",
      "(-7, -3)\n",
      "(-7, -3)\n",
      "(-7, -3)\n",
      "(-8, -4)\n",
      "(-8, -4)\n",
      "(-9, -4)\n",
      "(-9, -4)\n",
      "(-9, -5)\n",
      "(-10, -5)\n",
      "(-10, -5)\n",
      "(-11, -5)\n",
      "(-11, -5)\n",
      "(-11, -5)\n",
      "(-12, -5)\n",
      "(-12, -4)\n",
      "(-13, -4)\n",
      "(-13, -4)\n",
      "(-13, -4)\n",
      "(-14, -3)\n",
      "(-14, -3)\n",
      "(-14, -3)\n",
      "(-14, -2)\n",
      "(-15, -2)\n",
      "(-15, -2)\n",
      "(-15, -1)\n",
      "(-15, -1)\n",
      "(-15, -1)\n",
      "(-15, 0)\n",
      "(-15, 0)\n",
      "(-15, 0)\n",
      "(-15, 0)\n",
      "(-15, 0)\n",
      "(-15, 0)\n",
      "(-15, 1)\n",
      "(-15, 2)\n",
      "(-15, 2)\n",
      "(-15, 2)\n",
      "(-14, 3)\n",
      "(-14, 3)\n",
      "(-14, 3)\n",
      "(-13, 4)\n",
      "(-13, 4)\n",
      "(-13, 4)\n",
      "(-12, 4)\n",
      "(-12, 5)\n",
      "(-11, 5)\n",
      "(-11, 5)\n",
      "(-11, 5)\n",
      "(-10, 5)\n",
      "(-10, 5)\n",
      "(-9, 5)\n",
      "(-9, 5)\n",
      "(-9, 4)\n",
      "(-8, 5)\n",
      "(-8, 4)\n",
      "(-7, 4)\n",
      "(-7, 4)\n",
      "(-7, 3)\n",
      "(-6, 3)\n",
      "(-6, 3)\n",
      "(-6, 2)\n",
      "(-6, 2)\n",
      "(-6, 1)\n",
      "(-6, 0)\n",
      "(-6, 0)\n",
      "(-6, 0)\n",
      "(-6, 0)\n",
      "(-6, 0)\n",
      "(-6, 0)\n",
      "(-6, -1)\n",
      "(-6, -1)\n",
      "(-6, -1)\n",
      "(-6, -2)\n",
      "(-7, -2)\n",
      "(-7, -3)\n",
      "(-7, -3)\n",
      "(-7, -3)\n",
      "(-8, -4)\n",
      "(-8, -4)\n",
      "(-8, -4)\n",
      "(-9, -4)\n",
      "(-9, -4)\n",
      "(-10, -5)\n",
      "(-10, -4)\n"
     ]
    }
   ],
   "source": [
    "env.reset()\n",
    "\n",
    "done = False\n",
    "while not done:\n",
    "   env.render()\n",
    "   obs, rew, done, info = env.step(env.action_space.sample())\n",
    "   #print(discretize_bins(obs))\n",
    "   print(discretize(obs))\n",
    "env.close()"
   ]
  },
  {
   "cell_type": "markdown",
   "metadata": {},
   "source": [
    "## Q-Table Structure"
   ]
  },
  {
   "cell_type": "code",
   "execution_count": 12,
   "metadata": {},
   "outputs": [],
   "source": [
    "Q = {}\n",
    "actions = (0, 1, 2)\n",
    "\n",
    "def qvalues(state):\n",
    "    return [Q.get((state, a), 0) for a in actions]"
   ]
  },
  {
   "cell_type": "markdown",
   "metadata": {},
   "source": [
    "## Let's Start Q-Learning!"
   ]
  },
  {
   "cell_type": "code",
   "execution_count": 13,
   "metadata": {},
   "outputs": [],
   "source": [
    "epochs = 20000\n",
    "\n",
    "alpha = 1\n",
    "gamma = 0.95\n",
    "epsilon = 0\n",
    "\n",
    "epsilon_inc = 1 / 1000\n",
    "alpha_dec = 1 / 10000"
   ]
  },
  {
   "cell_type": "code",
   "execution_count": 14,
   "metadata": {},
   "outputs": [
    {
     "name": "stdout",
     "output_type": "stream",
     "text": [
      "0: -200.0, alpha=1, epsilon=0\n",
      "500: -200.0, alpha=0.9500000000000055, epsilon=0.5000000000000003\n",
      "1000: -200.0, alpha=0.900000000000011, epsilon=0.9000000000000007\n",
      "1500: -200.0, alpha=0.8500000000000165, epsilon=0.9000000000000007\n",
      "2000: -199.882, alpha=0.800000000000022, epsilon=0.9000000000000007\n",
      "2500: -199.816, alpha=0.7500000000000275, epsilon=0.9000000000000007\n",
      "3000: -199.764, alpha=0.700000000000033, epsilon=0.9000000000000007\n",
      "3500: -197.974, alpha=0.6500000000000385, epsilon=0.9000000000000007\n",
      "4000: -196.462, alpha=0.600000000000044, epsilon=0.9000000000000007\n",
      "4500: -196.116, alpha=0.5500000000000496, epsilon=0.9000000000000007\n",
      "5000: -194.678, alpha=0.5000000000000551, epsilon=0.9000000000000007\n",
      "5500: -189.422, alpha=0.4500000000000606, epsilon=0.9000000000000007\n",
      "6000: -189.28, alpha=0.4000000000000661, epsilon=0.9000000000000007\n",
      "6500: -187.504, alpha=0.3500000000000716, epsilon=0.9000000000000007\n",
      "7000: -183.632, alpha=0.3000000000000771, epsilon=0.9000000000000007\n",
      "7500: -175.67, alpha=0.2500000000000826, epsilon=0.9000000000000007\n",
      "8000: -171.094, alpha=0.2000000000000881, epsilon=0.9000000000000007\n",
      "8500: -161.148, alpha=0.19990000000008812, epsilon=0.9000000000000007\n",
      "9000: -170.022, alpha=0.19990000000008812, epsilon=0.9000000000000007\n",
      "9500: -167.82, alpha=0.19990000000008812, epsilon=0.9000000000000007\n",
      "10000: -173.486, alpha=0.19990000000008812, epsilon=0.9000000000000007\n",
      "10500: -171.854, alpha=0.19990000000008812, epsilon=0.9000000000000007\n",
      "11000: -170.584, alpha=0.19990000000008812, epsilon=0.9000000000000007\n",
      "11500: -173.852, alpha=0.19990000000008812, epsilon=0.9000000000000007\n",
      "12000: -171.428, alpha=0.19990000000008812, epsilon=0.9000000000000007\n",
      "12500: -170.858, alpha=0.19990000000008812, epsilon=0.9000000000000007\n",
      "13000: -164.134, alpha=0.19990000000008812, epsilon=0.9000000000000007\n",
      "13500: -168.668, alpha=0.19990000000008812, epsilon=0.9000000000000007\n",
      "14000: -179.01, alpha=0.19990000000008812, epsilon=0.9000000000000007\n",
      "14500: -174.534, alpha=0.19990000000008812, epsilon=0.9000000000000007\n",
      "15000: -170.442, alpha=0.19990000000008812, epsilon=0.9000000000000007\n",
      "15500: -166.512, alpha=0.19990000000008812, epsilon=0.9000000000000007\n",
      "16000: -158.06, alpha=0.19990000000008812, epsilon=0.9000000000000007\n",
      "16500: -166.596, alpha=0.19990000000008812, epsilon=0.9000000000000007\n",
      "17000: -166.164, alpha=0.19990000000008812, epsilon=0.9000000000000007\n",
      "17500: -158.352, alpha=0.19990000000008812, epsilon=0.9000000000000007\n",
      "18000: -171.446, alpha=0.19990000000008812, epsilon=0.9000000000000007\n",
      "18500: -176.986, alpha=0.19990000000008812, epsilon=0.9000000000000007\n",
      "19000: -178.298, alpha=0.19990000000008812, epsilon=0.9000000000000007\n",
      "19500: -169.15, alpha=0.19990000000008812, epsilon=0.9000000000000007\n"
     ]
    }
   ],
   "source": [
    "def probs(v,eps=1e-4):\n",
    "    v = v-v.min()+eps\n",
    "    v = v/v.sum()\n",
    "    return v\n",
    "\n",
    "Qmax = -200\n",
    "Qbest = Q\n",
    "cum_rewards = []\n",
    "rewards = []\n",
    "for epoch in range(epochs):\n",
    "    obs = env.reset()\n",
    "    done = False\n",
    "    cum_reward=0\n",
    "    # == do the simulation ==\n",
    "    while not done:\n",
    "        s = discretize(obs)\n",
    "        if random.random()<epsilon:\n",
    "            # exploitation - chose the action according to Q-Table probabilities\n",
    "            v = probs(np.array(qvalues(s)))\n",
    "            a = actions[np.argmax(v)]\n",
    "        else:\n",
    "            # exploration - randomly chose the action\n",
    "            a = np.random.randint(env.action_space.n)\n",
    "\n",
    "        obs, rew, done, info = env.step(a)\n",
    "\n",
    "        cum_reward += rew\n",
    "\n",
    "        ns = discretize(obs)\n",
    "        Q[(s,a)] = (1 - alpha) * Q.get((s,a),0) + alpha * (rew + gamma * max(qvalues(ns)))\n",
    "        \n",
    "    cum_rewards.append(cum_reward)\n",
    "    rewards.append(cum_reward)\n",
    "    # == Periodically print results and calculate average reward ==\n",
    "    if epoch%500==0:\n",
    "        print(f\"{epoch}: {np.average(cum_rewards)}, alpha={alpha}, epsilon={epsilon}\")\n",
    "\n",
    "        if np.average(cum_rewards) > Qmax:\n",
    "            Qmax = np.average(cum_rewards)\n",
    "            Qbest = dict(Q)\n",
    "        Q = Qbest\n",
    "        cum_rewards=[]\n",
    "\n",
    "    if epsilon < 0.9:\n",
    "        epsilon += epsilon_inc\n",
    "\n",
    "    if alpha > 0.2:\n",
    "        alpha -= alpha_dec"
   ]
  },
  {
   "cell_type": "markdown",
   "metadata": {},
   "source": [
    "## Plotting Training Progress"
   ]
  },
  {
   "cell_type": "code",
   "execution_count": 15,
   "metadata": {},
   "outputs": [
    {
     "name": "stdout",
     "output_type": "stream",
     "text": [
      "1857553803968\n",
      "1857553803968\n"
     ]
    },
    {
     "data": {
      "text/plain": [
       "[<matplotlib.lines.Line2D at 0x1b07ee0cca0>]"
      ]
     },
     "execution_count": 15,
     "metadata": {},
     "output_type": "execute_result"
    },
    {
     "data": {
      "image/png": "[encoded data removed]",
      "text/plain": [
       "<Figure size 432x288 with 1 Axes>"
      ]
     },
     "metadata": {
      "needs_background": "light"
     },
     "output_type": "display_data"
    }
   ],
   "source": [
    "print(id(Qbest))\n",
    "print(id(Q))\n",
    "\n",
    "plt.plot(rewards)"
   ]
  },
  {
   "cell_type": "markdown",
   "metadata": {},
   "source": [
    "From this graph, it is not possible to tell anything, because due to the nature of stochastic training process the length of training sessions varies greatly. To make more sense of this graph, we can calculate **running average** over series of experiments, let's say 100. This can be done conveniently using `np.convolve`:"
   ]
  },
  {
   "cell_type": "code",
   "execution_count": 17,
   "metadata": {},
   "outputs": [
    {
     "data": {
      "text/plain": [
       "[<matplotlib.lines.Line2D at 0x1b07ff44ac0>]"
      ]
     },
     "execution_count": 17,
     "metadata": {},
     "output_type": "execute_result"
    },
    {
     "data": {
      "image/png": "[encoded data removed]",
      "text/plain": [
       "<Figure size 432x288 with 1 Axes>"
      ]
     },
     "metadata": {
      "needs_background": "light"
     },
     "output_type": "display_data"
    }
   ],
   "source": [
    "def running_average(x,window):\n",
    "    return np.convolve(x,np.ones(window)/window,mode='valid')\n",
    "\n",
    "plt.plot(running_average(rewards,100))"
   ]
  },
  {
   "cell_type": "markdown",
   "metadata": {},
   "source": [
    "## Varying Hyperparameters and Seeing the Result in Action\n",
    "\n",
    "Now it would be interesting to actually see how the trained model behaves. Let's run the simulation, and we will be following the same action selection strategy as during training: sampling according to the probability distribution in Q-Table: "
   ]
  },
  {
   "cell_type": "code",
   "execution_count": 18,
   "metadata": {},
   "outputs": [],
   "source": [
    "obs = env.reset()\n",
    "done = False\n",
    "while not done:\n",
    "   s = discretize(obs)\n",
    "   env.render()\n",
    "   v = probs(np.array(qvalues(s)))\n",
    "   a = random.choices(actions,weights=v)[0]\n",
    "   obs,_,done,_ = env.step(a)\n",
    "env.close()"
   ]
  },
  {
   "cell_type": "markdown",
   "metadata": {},
   "source": [
    "In this case we always select the case with highest qtable value:"
   ]
  },
  {
   "cell_type": "code",
   "execution_count": 19,
   "metadata": {},
   "outputs": [],
   "source": [
    "obs = env.reset()\n",
    "done = False\n",
    "while not done:\n",
    "   s = discretize(obs)\n",
    "   env.render()\n",
    "   v = probs(np.array(qvalues(s)))\n",
    "   v_max = np.argmax(v)\n",
    "   a = actions[v_max]\n",
    "   obs,_,done,_ = env.step(a)\n",
    "env.close()"
   ]
  },
  {
   "cell_type": "markdown",
   "metadata": {},
   "source": [
    "\n",
    "## Saving result to an animated GIF\n",
    "\n",
    "If you want to impress your friends, you may want to send them the animated GIF picture of the balancing pole. To do this, we can invoke `env.render` to produce an image frame, and then save those to animated GIF using PIL library:"
   ]
  },
  {
   "cell_type": "code",
   "execution_count": 25,
   "metadata": {},
   "outputs": [
    {
     "name": "stdout",
     "output_type": "stream",
     "text": [
      "152\n"
     ]
    }
   ],
   "source": [
    "from PIL import Image\n",
    "obs = env.reset()\n",
    "done = False\n",
    "i=0\n",
    "ims = []\n",
    "while not done:\n",
    "   s = discretize(obs)\n",
    "   img=env.render(mode='rgb_array')\n",
    "   ims.append(Image.fromarray(img))\n",
    "   v = probs(np.array([Qbest.get((s,a),0) for a in actions]))\n",
    "   a = random.choices(actions,weights=v)[0]\n",
    "   obs,_,done,_ = env.step(a)\n",
    "   i+=1\n",
    "env.close()\n",
    "ims[0].save('images/mountain_car.gif',save_all=True,append_images=ims[1::2],loop=0,duration=5)\n",
    "print(i)"
   ]
  }
 ],
 "metadata": {
  "interpreter": {
   "hash": "3de6c233c2b6517ff24b667833eb0ffa74fcba4af1a9cd9fcd9c6dbe754c2f5a"
  },
  "kernelspec": {
   "display_name": "Python 3.9.6 64-bit",
   "name": "python3"
  },
  "language_info": {
   "codemirror_mode": {
    "name": "ipython",
    "version": 3
   },
   "file_extension": ".py",
   "mimetype": "text/x-python",
   "name": "python",
   "nbconvert_exporter": "python",
   "pygments_lexer": "ipython3",
   "version": "3.9.6"
  },
  "orig_nbformat": 4
 },
 "nbformat": 4,
 "nbformat_minor": 2
}
